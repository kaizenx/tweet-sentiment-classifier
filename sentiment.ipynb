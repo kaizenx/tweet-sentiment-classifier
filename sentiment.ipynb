{
 "cells": [
  {
   "cell_type": "markdown",
   "id": "5ae1d34a-4d13-4f82-bbb0-d897eadba807",
   "metadata": {},
   "source": [
    "# Twitter Sentiment Analysis"
   ]
  },
  {
   "cell_type": "markdown",
   "id": "6ce81846-1bef-45a1-a40d-7e72963a5627",
   "metadata": {},
   "source": [
    "## Overview\n",
    "\n",
    "This project focuses on conducting entity-level sentiment analysis using a Recurrent Neural Network (RNN) on a Twitter dataset. The task involves determining the sentiment of a message in relation to a specific entity. The dataset includes three sentiment classes: Positive, Negative, and Neutral. \n",
    "\n",
    "Using Recurrent Neural Networks (RNNs) to predict the sentiment of tweets can be highly valuable in a commercial context for several reasons:\n",
    "\n",
    "1. **Customer Insights and Engagement**: By analyzing tweets related to a brand or product, businesses can quickly gauge customer opinions and reactions. This allows companies to understand how their audience feels in real-time and respond appropriately to both positive feedback and complaints.\n",
    "\n",
    "2. **Brand Monitoring and Crisis Management**: Detecting negative sentiments promptly enables businesses to address potential issues before they escalate. For example, if a product launch receives negative reactions, companies can use this information to investigate and resolve problems, reducing the impact on their reputation.\n",
    "\n",
    "3. **Targeted Marketing**: Sentiment analysis can help identify positive sentiment and influencers among customers, allowing companies to engage with advocates and tailor marketing campaigns to promote positive experiences. This can increase customer loyalty and drive sales.\n",
    "\n",
    "4. **Competitor Analysis**: By analyzing sentiment related to competitors, businesses can gain insights into market positioning and identify areas for improvement in their own products or services.\n",
    "\n",
    "5. **Product Development and Feedback**: Sentiment analysis can help companies collect and interpret customer feedback, guiding product improvements and feature development based on customer needs and preferences.\n",
    "\n",
    "Overall, sentiment analysis of tweets using RNNs provides actionable insights that can help businesses make informed decisions, enhance customer experience, and maintain a positive brand image.\n",
    "\n"
   ]
  },
  {
   "cell_type": "markdown",
   "id": "bf4f4d0b",
   "metadata": {},
   "source": [
    "## Data Source and Experimental Setup\n",
    "\n",
    "### Data Source\n",
    "The dataset used for this project is available on Kaggle: [Twitter Entity Sentiment Analysis](https://www.kaggle.com/datasets/jp797498e/twitter-entity-sentiment-analysis/data).\n",
    "\n",
    "### Data Splitting Decision\n",
    "Initially, the dataset did not include a dedicated test set, only training and validation sets. To create a meaningful structure for training, validation, and testing, we made the following decisions:\n",
    "\n",
    "1. **Training and Validation**: We used the original training dataset as both the training and validation dataset. This allowed us to maximize the data available for training while still evaluating performance during the model development phase. For validation during training, we applied k-fold cross-validation within this training set. This technique helps prevent overfitting by assessing the model across multiple subsets.\n",
    "\n",
    "2. **Test Set Assignment**: The original validation dataset was repurposed as the test set. Since this data was not used during training, it provides a completely unseen dataset to evaluate the model's generalization capabilities. Using this as the test set ensures that we have a separate hold-out set, crucial for unbiased model performance assessment.\n",
    "\n",
    "### Rationale:\n",
    "This approach is suitable for this project due to the following reasons:\n",
    "- **Maximizing Data for Training**: Given the limited size of the original dataset, using all available data helps improve the robustness and accuracy of the model.\n",
    "- **Generalization Assessment**: By keeping the repurposed validation set as the test set, we have an independent dataset to evaluate how well the model performs on unseen data, ensuring a more reliable measure of its generalization ability.\n",
    "\n",
    "This setup allows us to optimize the training process while preserving the integrity of the evaluation phase, which is essential for ensuring that our results are valid and applicable to real-world scenarios.\n"
   ]
  },
  {
   "cell_type": "markdown",
   "id": "c14ddf48-312f-41c5-b65d-69aca5ee5b16",
   "metadata": {},
   "source": [
    "## Import Libraries"
   ]
  },
  {
   "cell_type": "code",
   "execution_count": 8,
   "id": "da3347b9-eb0d-49a3-bd5e-c217fe028263",
   "metadata": {},
   "outputs": [],
   "source": [
    "from sklearn.model_selection import train_test_split\n",
    "import keras_nlp\n",
    "import keras\n",
    "import pandas as pd\n",
    "import csv\n",
    "from sklearn.metrics import confusion_matrix, classification_report\n",
    "import matplotlib.pyplot as plt\n",
    "import numpy as np\n",
    "\n",
    "import re\n",
    "from nltk.corpus import stopwords\n",
    "import nltk\n",
    "\n",
    "from imblearn.over_sampling import SMOTE\n",
    "\n",
    "import tensorflow as tf\n",
    "from tensorflow.keras.preprocessing.text import Tokenizer\n",
    "from tensorflow.keras.preprocessing.sequence import pad_sequences\n",
    "from tensorflow.keras.models import Sequential\n",
    "from tensorflow.keras.layers import Embedding, LSTM, Dense, SpatialDropout1D, Dropout, BatchNormalization,GlobalAveragePooling1D\n",
    "from tensorflow.keras.callbacks import ModelCheckpoint\n",
    "from tensorflow.keras.models import load_model\n",
    "from tensorflow.keras.preprocessing.sequence import pad_sequences\n",
    "from tensorflow.keras.callbacks import EarlyStopping\n",
    "from tensorflow.keras.optimizers import Adam\n",
    "from tensorflow.keras.callbacks import ReduceLROnPlateau\n",
    "from tensorflow.keras.metrics import F1Score\n",
    "from tensorflow.keras.regularizers import l2\n",
    "\n"
   ]
  },
  {
   "cell_type": "code",
   "execution_count": 9,
   "id": "3b352125",
   "metadata": {},
   "outputs": [
    {
     "name": "stdout",
     "output_type": "stream",
     "text": [
      "2.17.0\n",
      "Built with CUDA: True\n",
      "Available GPUs: [PhysicalDevice(name='/physical_device:GPU:0', device_type='GPU')]\n",
      "cudnn_version 8\n",
      "cuda_version 12.3\n"
     ]
    }
   ],
   "source": [
    "# Make sure GPU is working\n",
    "\n",
    "print(tf.version.VERSION)\n",
    "\n",
    "# Check if TensorFlow is built with CUDA\n",
    "print(\"Built with CUDA:\", tf.test.is_built_with_cuda())\n",
    "\n",
    "# List available physical devices\n",
    "print(\"Available GPUs:\", tf.config.list_physical_devices('GPU'))\n",
    "\n",
    "# Get CUDA version from TensorFlow's build info\n",
    "from tensorflow.python.platform import build_info as tf_build_info\n",
    "print(\"cudnn_version\",tf_build_info.build_info['cudnn_version'])\n",
    "\n",
    "print(\"cuda_version\",tf_build_info.build_info['cuda_version'])"
   ]
  },
  {
   "cell_type": "markdown",
   "id": "804bfdd9-0d42-410e-99ca-0745e914d289",
   "metadata": {},
   "source": [
    "## Data description\n",
    "\n",
    "The Training and Validation dataset has 74682 rows. \n",
    "\n",
    "The Validation dataset has 1000 rows.\n",
    "\n",
    "Our tweet data consists of the following elements:\n",
    "\n",
    "1. **ID**: A unique identifier for each tweet, which helps in tracking and distinguishing between different entries.\n",
    "\n",
    "2. **Entity**: The specific subject or topic that the tweet is discussing. \n",
    "\n",
    "3. **Sentiment**: This indicates the emotional tone associated with the tweet in relation to the entity. \n",
    "\n",
    "4. **Content**: The actual text of the tweet, which provides context and details about the sentiment expressed. The content appears to include variations of similar phrases, expressing enthusiasm for playing the various games. \n"
   ]
  },
  {
   "cell_type": "code",
   "execution_count": 10,
   "id": "cdfcfd4c-7ac5-41c7-8c1c-639036881db2",
   "metadata": {},
   "outputs": [],
   "source": [
    "# Load the CSV file\n",
    "data_df = pd.read_csv('data/twitter_training.csv', names=['ID', 'entity', 'sentiment', 'content'])\n",
    "# data.rename(columns={'message to examine': 'text','label (depression result)':'target'}, inplace=True)\n",
    "test_df = pd.read_csv('data/twitter_validation.csv', names=['ID', 'entity', 'sentiment', 'content'])\n"
   ]
  },
  {
   "cell_type": "markdown",
   "id": "adb6378b-bd98-4f64-94b5-4a1ea55ea926",
   "metadata": {},
   "source": [
    "## Exploratory Data Analysis"
   ]
  },
  {
   "cell_type": "code",
   "execution_count": 11,
   "id": "671161b0-2800-4e05-b8c3-2321979c0e7a",
   "metadata": {},
   "outputs": [
    {
     "data": {
      "text/plain": [
       "(74682, 4)"
      ]
     },
     "execution_count": 11,
     "metadata": {},
     "output_type": "execute_result"
    }
   ],
   "source": [
    "data_df.shape"
   ]
  },
  {
   "cell_type": "code",
   "execution_count": 12,
   "id": "cef8253f",
   "metadata": {},
   "outputs": [
    {
     "data": {
      "text/plain": [
       "(1000, 4)"
      ]
     },
     "execution_count": 12,
     "metadata": {},
     "output_type": "execute_result"
    }
   ],
   "source": [
    "test_df.shape"
   ]
  },
  {
   "cell_type": "code",
   "execution_count": 45,
   "id": "fc0023f3-c749-4a80-b5d4-2b4ffc8169c2",
   "metadata": {},
   "outputs": [
    {
     "data": {
      "text/html": [
       "<div>\n",
       "<style scoped>\n",
       "    .dataframe tbody tr th:only-of-type {\n",
       "        vertical-align: middle;\n",
       "    }\n",
       "\n",
       "    .dataframe tbody tr th {\n",
       "        vertical-align: top;\n",
       "    }\n",
       "\n",
       "    .dataframe thead th {\n",
       "        text-align: right;\n",
       "    }\n",
       "</style>\n",
       "<table border=\"1\" class=\"dataframe\">\n",
       "  <thead>\n",
       "    <tr style=\"text-align: right;\">\n",
       "      <th></th>\n",
       "      <th>count</th>\n",
       "      <th>mean</th>\n",
       "      <th>std</th>\n",
       "      <th>min</th>\n",
       "      <th>25%</th>\n",
       "      <th>50%</th>\n",
       "      <th>75%</th>\n",
       "      <th>max</th>\n",
       "    </tr>\n",
       "  </thead>\n",
       "  <tbody>\n",
       "    <tr>\n",
       "      <th>ID</th>\n",
       "      <td>74682.0</td>\n",
       "      <td>6432.586165</td>\n",
       "      <td>3740.42787</td>\n",
       "      <td>1.0</td>\n",
       "      <td>3195.0</td>\n",
       "      <td>6422.0</td>\n",
       "      <td>9601.0</td>\n",
       "      <td>13200.0</td>\n",
       "    </tr>\n",
       "  </tbody>\n",
       "</table>\n",
       "</div>"
      ],
      "text/plain": [
       "      count         mean         std  min     25%     50%     75%      max\n",
       "ID  74682.0  6432.586165  3740.42787  1.0  3195.0  6422.0  9601.0  13200.0"
      ]
     },
     "execution_count": 45,
     "metadata": {},
     "output_type": "execute_result"
    }
   ],
   "source": [
    "data_df.describe().T"
   ]
  },
  {
   "cell_type": "code",
   "execution_count": 14,
   "id": "f03f6bb7",
   "metadata": {},
   "outputs": [
    {
     "data": {
      "text/html": [
       "<div>\n",
       "<style scoped>\n",
       "    .dataframe tbody tr th:only-of-type {\n",
       "        vertical-align: middle;\n",
       "    }\n",
       "\n",
       "    .dataframe tbody tr th {\n",
       "        vertical-align: top;\n",
       "    }\n",
       "\n",
       "    .dataframe thead th {\n",
       "        text-align: right;\n",
       "    }\n",
       "</style>\n",
       "<table border=\"1\" class=\"dataframe\">\n",
       "  <thead>\n",
       "    <tr style=\"text-align: right;\">\n",
       "      <th></th>\n",
       "      <th>count</th>\n",
       "      <th>mean</th>\n",
       "      <th>std</th>\n",
       "      <th>min</th>\n",
       "      <th>25%</th>\n",
       "      <th>50%</th>\n",
       "      <th>75%</th>\n",
       "      <th>max</th>\n",
       "    </tr>\n",
       "  </thead>\n",
       "  <tbody>\n",
       "    <tr>\n",
       "      <th>ID</th>\n",
       "      <td>1000.0</td>\n",
       "      <td>6432.088</td>\n",
       "      <td>3728.310569</td>\n",
       "      <td>6.0</td>\n",
       "      <td>3247.75</td>\n",
       "      <td>6550.0</td>\n",
       "      <td>9661.75</td>\n",
       "      <td>13197.0</td>\n",
       "    </tr>\n",
       "  </tbody>\n",
       "</table>\n",
       "</div>"
      ],
      "text/plain": [
       "     count      mean          std  min      25%     50%      75%      max\n",
       "ID  1000.0  6432.088  3728.310569  6.0  3247.75  6550.0  9661.75  13197.0"
      ]
     },
     "execution_count": 14,
     "metadata": {},
     "output_type": "execute_result"
    }
   ],
   "source": [
    "test_df.describe().T"
   ]
  },
  {
   "cell_type": "code",
   "execution_count": 15,
   "id": "86fbeda9-a20d-4720-bbe3-48c8ddf8d3c1",
   "metadata": {},
   "outputs": [
    {
     "name": "stdout",
     "output_type": "stream",
     "text": [
      "<class 'pandas.core.frame.DataFrame'>\n",
      "RangeIndex: 74682 entries, 0 to 74681\n",
      "Data columns (total 4 columns):\n",
      " #   Column     Non-Null Count  Dtype \n",
      "---  ------     --------------  ----- \n",
      " 0   ID         74682 non-null  int64 \n",
      " 1   entity     74682 non-null  object\n",
      " 2   sentiment  74682 non-null  object\n",
      " 3   content    73996 non-null  object\n",
      "dtypes: int64(1), object(3)\n",
      "memory usage: 2.3+ MB\n"
     ]
    }
   ],
   "source": [
    "data_df.info()"
   ]
  },
  {
   "cell_type": "code",
   "execution_count": 16,
   "id": "aacabf89",
   "metadata": {},
   "outputs": [
    {
     "name": "stdout",
     "output_type": "stream",
     "text": [
      "<class 'pandas.core.frame.DataFrame'>\n",
      "RangeIndex: 1000 entries, 0 to 999\n",
      "Data columns (total 4 columns):\n",
      " #   Column     Non-Null Count  Dtype \n",
      "---  ------     --------------  ----- \n",
      " 0   ID         1000 non-null   int64 \n",
      " 1   entity     1000 non-null   object\n",
      " 2   sentiment  1000 non-null   object\n",
      " 3   content    1000 non-null   object\n",
      "dtypes: int64(1), object(3)\n",
      "memory usage: 31.4+ KB\n"
     ]
    }
   ],
   "source": [
    "test_df.info()"
   ]
  },
  {
   "cell_type": "code",
   "execution_count": 17,
   "id": "aac9e755-c324-4dea-81d6-0e4de173b228",
   "metadata": {},
   "outputs": [
    {
     "data": {
      "text/html": [
       "<div>\n",
       "<style scoped>\n",
       "    .dataframe tbody tr th:only-of-type {\n",
       "        vertical-align: middle;\n",
       "    }\n",
       "\n",
       "    .dataframe tbody tr th {\n",
       "        vertical-align: top;\n",
       "    }\n",
       "\n",
       "    .dataframe thead th {\n",
       "        text-align: right;\n",
       "    }\n",
       "</style>\n",
       "<table border=\"1\" class=\"dataframe\">\n",
       "  <thead>\n",
       "    <tr style=\"text-align: right;\">\n",
       "      <th></th>\n",
       "      <th>ID</th>\n",
       "      <th>entity</th>\n",
       "      <th>sentiment</th>\n",
       "      <th>content</th>\n",
       "    </tr>\n",
       "  </thead>\n",
       "  <tbody>\n",
       "    <tr>\n",
       "      <th>0</th>\n",
       "      <td>2401</td>\n",
       "      <td>Borderlands</td>\n",
       "      <td>Positive</td>\n",
       "      <td>im getting on borderlands and i will murder yo...</td>\n",
       "    </tr>\n",
       "    <tr>\n",
       "      <th>1</th>\n",
       "      <td>2401</td>\n",
       "      <td>Borderlands</td>\n",
       "      <td>Positive</td>\n",
       "      <td>I am coming to the borders and I will kill you...</td>\n",
       "    </tr>\n",
       "    <tr>\n",
       "      <th>2</th>\n",
       "      <td>2401</td>\n",
       "      <td>Borderlands</td>\n",
       "      <td>Positive</td>\n",
       "      <td>im getting on borderlands and i will kill you ...</td>\n",
       "    </tr>\n",
       "    <tr>\n",
       "      <th>3</th>\n",
       "      <td>2401</td>\n",
       "      <td>Borderlands</td>\n",
       "      <td>Positive</td>\n",
       "      <td>im coming on borderlands and i will murder you...</td>\n",
       "    </tr>\n",
       "    <tr>\n",
       "      <th>4</th>\n",
       "      <td>2401</td>\n",
       "      <td>Borderlands</td>\n",
       "      <td>Positive</td>\n",
       "      <td>im getting on borderlands 2 and i will murder ...</td>\n",
       "    </tr>\n",
       "  </tbody>\n",
       "</table>\n",
       "</div>"
      ],
      "text/plain": [
       "     ID       entity sentiment  \\\n",
       "0  2401  Borderlands  Positive   \n",
       "1  2401  Borderlands  Positive   \n",
       "2  2401  Borderlands  Positive   \n",
       "3  2401  Borderlands  Positive   \n",
       "4  2401  Borderlands  Positive   \n",
       "\n",
       "                                             content  \n",
       "0  im getting on borderlands and i will murder yo...  \n",
       "1  I am coming to the borders and I will kill you...  \n",
       "2  im getting on borderlands and i will kill you ...  \n",
       "3  im coming on borderlands and i will murder you...  \n",
       "4  im getting on borderlands 2 and i will murder ...  "
      ]
     },
     "execution_count": 17,
     "metadata": {},
     "output_type": "execute_result"
    }
   ],
   "source": [
    "data_df.head(5)"
   ]
  },
  {
   "cell_type": "code",
   "execution_count": 18,
   "id": "371e5443-f42e-44b5-b3e2-381d5983dee7",
   "metadata": {},
   "outputs": [
    {
     "data": {
      "text/plain": [
       "74682"
      ]
     },
     "execution_count": 18,
     "metadata": {},
     "output_type": "execute_result"
    }
   ],
   "source": [
    "len(data_df)"
   ]
  },
  {
   "cell_type": "code",
   "execution_count": 19,
   "id": "834b9704",
   "metadata": {},
   "outputs": [
    {
     "name": "stdout",
     "output_type": "stream",
     "text": [
      "Unique sentiment values: ['Positive' 'Neutral' 'Negative' 'Irrelevant']\n"
     ]
    }
   ],
   "source": [
    "# Print unique sentiment values\n",
    "unique_sentiments = data_df['sentiment'].unique()\n",
    "print(\"Unique sentiment values:\", unique_sentiments)"
   ]
  },
  {
   "cell_type": "markdown",
   "id": "8b32f58f",
   "metadata": {},
   "source": [
    "### Preliminary Clean-up\n",
    "\n",
    "We only want to use positive, neutral, and negative in our training and testing. Because we want to reduce noise in our training process."
   ]
  },
  {
   "cell_type": "code",
   "execution_count": 20,
   "id": "fe4414eb",
   "metadata": {},
   "outputs": [
    {
     "name": "stdout",
     "output_type": "stream",
     "text": [
      "Unique sentiment values: ['Positive' 'Neutral' 'Negative']\n"
     ]
    }
   ],
   "source": [
    "df_filtered = data_df[data_df['sentiment'] != 'Irrelevant'].copy()\n",
    "test_df = test_df[test_df['sentiment'] != 'Irrelevant'].copy()\n",
    "\n",
    "unique_sentiments = df_filtered['sentiment'].unique()\n",
    "print(\"Unique sentiment values:\", unique_sentiments)"
   ]
  },
  {
   "cell_type": "code",
   "execution_count": 21,
   "id": "68f5f244",
   "metadata": {},
   "outputs": [
    {
     "data": {
      "text/html": [
       "<div>\n",
       "<style scoped>\n",
       "    .dataframe tbody tr th:only-of-type {\n",
       "        vertical-align: middle;\n",
       "    }\n",
       "\n",
       "    .dataframe tbody tr th {\n",
       "        vertical-align: top;\n",
       "    }\n",
       "\n",
       "    .dataframe thead th {\n",
       "        text-align: right;\n",
       "    }\n",
       "</style>\n",
       "<table border=\"1\" class=\"dataframe\">\n",
       "  <thead>\n",
       "    <tr style=\"text-align: right;\">\n",
       "      <th></th>\n",
       "      <th>ID</th>\n",
       "      <th>entity</th>\n",
       "      <th>sentiment</th>\n",
       "      <th>content</th>\n",
       "      <th>sentiment_encoded</th>\n",
       "    </tr>\n",
       "  </thead>\n",
       "  <tbody>\n",
       "    <tr>\n",
       "      <th>0</th>\n",
       "      <td>2401</td>\n",
       "      <td>Borderlands</td>\n",
       "      <td>Positive</td>\n",
       "      <td>im getting on borderlands and i will murder yo...</td>\n",
       "      <td>2</td>\n",
       "    </tr>\n",
       "    <tr>\n",
       "      <th>1</th>\n",
       "      <td>2401</td>\n",
       "      <td>Borderlands</td>\n",
       "      <td>Positive</td>\n",
       "      <td>I am coming to the borders and I will kill you...</td>\n",
       "      <td>2</td>\n",
       "    </tr>\n",
       "    <tr>\n",
       "      <th>2</th>\n",
       "      <td>2401</td>\n",
       "      <td>Borderlands</td>\n",
       "      <td>Positive</td>\n",
       "      <td>im getting on borderlands and i will kill you ...</td>\n",
       "      <td>2</td>\n",
       "    </tr>\n",
       "    <tr>\n",
       "      <th>3</th>\n",
       "      <td>2401</td>\n",
       "      <td>Borderlands</td>\n",
       "      <td>Positive</td>\n",
       "      <td>im coming on borderlands and i will murder you...</td>\n",
       "      <td>2</td>\n",
       "    </tr>\n",
       "    <tr>\n",
       "      <th>4</th>\n",
       "      <td>2401</td>\n",
       "      <td>Borderlands</td>\n",
       "      <td>Positive</td>\n",
       "      <td>im getting on borderlands 2 and i will murder ...</td>\n",
       "      <td>2</td>\n",
       "    </tr>\n",
       "  </tbody>\n",
       "</table>\n",
       "</div>"
      ],
      "text/plain": [
       "     ID       entity sentiment  \\\n",
       "0  2401  Borderlands  Positive   \n",
       "1  2401  Borderlands  Positive   \n",
       "2  2401  Borderlands  Positive   \n",
       "3  2401  Borderlands  Positive   \n",
       "4  2401  Borderlands  Positive   \n",
       "\n",
       "                                             content  sentiment_encoded  \n",
       "0  im getting on borderlands and i will murder yo...                  2  \n",
       "1  I am coming to the borders and I will kill you...                  2  \n",
       "2  im getting on borderlands and i will kill you ...                  2  \n",
       "3  im coming on borderlands and i will murder you...                  2  \n",
       "4  im getting on borderlands 2 and i will murder ...                  2  "
      ]
     },
     "execution_count": 21,
     "metadata": {},
     "output_type": "execute_result"
    }
   ],
   "source": [
    "# Define your mapping\n",
    "sentiment_mapping = {'Positive': 2, 'Neutral': 1, 'Negative': 0}\n",
    "\n",
    "# Map the sentiment column to the specified encoding\n",
    "df_filtered['sentiment_encoded'] = df_filtered['sentiment'].map(sentiment_mapping)\n",
    "df_filtered.head(5)"
   ]
  },
  {
   "cell_type": "code",
   "execution_count": 22,
   "id": "bc400648",
   "metadata": {},
   "outputs": [
    {
     "data": {
      "text/html": [
       "<div>\n",
       "<style scoped>\n",
       "    .dataframe tbody tr th:only-of-type {\n",
       "        vertical-align: middle;\n",
       "    }\n",
       "\n",
       "    .dataframe tbody tr th {\n",
       "        vertical-align: top;\n",
       "    }\n",
       "\n",
       "    .dataframe thead th {\n",
       "        text-align: right;\n",
       "    }\n",
       "</style>\n",
       "<table border=\"1\" class=\"dataframe\">\n",
       "  <thead>\n",
       "    <tr style=\"text-align: right;\">\n",
       "      <th></th>\n",
       "      <th>ID</th>\n",
       "      <th>entity</th>\n",
       "      <th>sentiment</th>\n",
       "      <th>content</th>\n",
       "      <th>sentiment_encoded</th>\n",
       "    </tr>\n",
       "  </thead>\n",
       "  <tbody>\n",
       "    <tr>\n",
       "      <th>1</th>\n",
       "      <td>352</td>\n",
       "      <td>Amazon</td>\n",
       "      <td>Neutral</td>\n",
       "      <td>BBC News - Amazon boss Jeff Bezos rejects clai...</td>\n",
       "      <td>1</td>\n",
       "    </tr>\n",
       "    <tr>\n",
       "      <th>2</th>\n",
       "      <td>8312</td>\n",
       "      <td>Microsoft</td>\n",
       "      <td>Negative</td>\n",
       "      <td>@Microsoft Why do I pay for WORD when it funct...</td>\n",
       "      <td>0</td>\n",
       "    </tr>\n",
       "    <tr>\n",
       "      <th>3</th>\n",
       "      <td>4371</td>\n",
       "      <td>CS-GO</td>\n",
       "      <td>Negative</td>\n",
       "      <td>CSGO matchmaking is so full of closet hacking,...</td>\n",
       "      <td>0</td>\n",
       "    </tr>\n",
       "    <tr>\n",
       "      <th>4</th>\n",
       "      <td>4433</td>\n",
       "      <td>Google</td>\n",
       "      <td>Neutral</td>\n",
       "      <td>Now the President is slapping Americans in the...</td>\n",
       "      <td>1</td>\n",
       "    </tr>\n",
       "    <tr>\n",
       "      <th>5</th>\n",
       "      <td>6273</td>\n",
       "      <td>FIFA</td>\n",
       "      <td>Negative</td>\n",
       "      <td>Hi @EAHelp I’ve had Madeleine McCann in my cel...</td>\n",
       "      <td>0</td>\n",
       "    </tr>\n",
       "  </tbody>\n",
       "</table>\n",
       "</div>"
      ],
      "text/plain": [
       "     ID     entity sentiment  \\\n",
       "1   352     Amazon   Neutral   \n",
       "2  8312  Microsoft  Negative   \n",
       "3  4371      CS-GO  Negative   \n",
       "4  4433     Google   Neutral   \n",
       "5  6273       FIFA  Negative   \n",
       "\n",
       "                                             content  sentiment_encoded  \n",
       "1  BBC News - Amazon boss Jeff Bezos rejects clai...                  1  \n",
       "2  @Microsoft Why do I pay for WORD when it funct...                  0  \n",
       "3  CSGO matchmaking is so full of closet hacking,...                  0  \n",
       "4  Now the President is slapping Americans in the...                  1  \n",
       "5  Hi @EAHelp I’ve had Madeleine McCann in my cel...                  0  "
      ]
     },
     "execution_count": 22,
     "metadata": {},
     "output_type": "execute_result"
    }
   ],
   "source": [
    "test_df['sentiment_encoded'] = test_df['sentiment'].map(sentiment_mapping)\n",
    "test_df.head(5)"
   ]
  },
  {
   "cell_type": "code",
   "execution_count": 23,
   "id": "a2fa3f91",
   "metadata": {},
   "outputs": [
    {
     "name": "stdout",
     "output_type": "stream",
     "text": [
      "Empty DataFrame\n",
      "Columns: [ID, entity, sentiment, content, sentiment_encoded]\n",
      "Index: []\n"
     ]
    }
   ],
   "source": [
    "# Find and display rows where 'content' is not a string\n",
    "\n",
    "df_filtered['content'] = df_filtered['content'].apply(lambda x: x if isinstance(x, str) else \"\")\n",
    "non_string_rows = df_filtered[~df_filtered['content'].apply(lambda x: isinstance(x, str))]\n",
    "print(non_string_rows)"
   ]
  },
  {
   "cell_type": "code",
   "execution_count": 24,
   "id": "9a70163d",
   "metadata": {},
   "outputs": [
    {
     "name": "stdout",
     "output_type": "stream",
     "text": [
      "Empty DataFrame\n",
      "Columns: [ID, entity, sentiment, content, sentiment_encoded]\n",
      "Index: []\n"
     ]
    }
   ],
   "source": [
    "test_df['content'] = test_df['content'].apply(lambda x: x if isinstance(x, str) else \"\")\n",
    "non_string_rows = test_df[~test_df['content'].apply(lambda x: isinstance(x, str))]\n",
    "print(non_string_rows)"
   ]
  },
  {
   "cell_type": "code",
   "execution_count": 46,
   "id": "9fa74318-cc5f-4048-b64a-3663e6eabf57",
   "metadata": {},
   "outputs": [
    {
     "data": {
      "image/png": "[encoded data removed]",
      "text/plain": [
       "<Figure size 1200x500 with 2 Axes>"
      ]
     },
     "metadata": {},
     "output_type": "display_data"
    }
   ],
   "source": [
    "\n",
    "\n",
    "# Set up the figure size\n",
    "plt.figure(figsize=(12, 5))\n",
    "\n",
    "# Plot the distribution of the target variable\n",
    "plt.subplot(1, 2, 1)\n",
    "df_filtered['sentiment_encoded'].value_counts().plot(kind='bar', color = '#1DA1F2')\n",
    "plt.title('Distribution Sentiment')\n",
    "plt.xlabel('Target (0 = Negative, 1 = Neutral, 2 = Positive)')\n",
    "plt.ylabel('Count')\n",
    "\n",
    "# Plot the distribution of tweet lengths\n",
    "plt.subplot(1, 2, 2)\n",
    "df_filtered['content_length'] = df_filtered['content'].apply(len)\n",
    "df_filtered['content_length'].plot(kind='hist', bins=30, color = '#1DA1F2')\n",
    "plt.title('Distribution of Tweet Lengths')\n",
    "plt.xlabel('Tweet Length')\n",
    "plt.ylabel('Frequency')\n",
    "\n",
    "# Show the plots\n",
    "plt.tight_layout()\n",
    "plt.show()"
   ]
  },
  {
   "cell_type": "markdown",
   "id": "37da269f-9915-49b5-b551-f96b52223add",
   "metadata": {},
   "source": [
    "## Determine if there is class imbalance"
   ]
  },
  {
   "cell_type": "code",
   "execution_count": 26,
   "id": "bc423203-1e31-40a5-98be-b52e522c614d",
   "metadata": {},
   "outputs": [
    {
     "data": {
      "text/plain": [
       "(sentiment_encoded\n",
       " 0    36.539584\n",
       " 2    33.767749\n",
       " 1    29.692667\n",
       " Name: proportion, dtype: float64,\n",
       " sentiment_encoded\n",
       " 0    22542\n",
       " 2    20832\n",
       " 1    18318\n",
       " Name: count, dtype: int64)"
      ]
     },
     "execution_count": 26,
     "metadata": {},
     "output_type": "execute_result"
    }
   ],
   "source": [
    "# Calculate the proportion of each class in the target variable\n",
    "class_proportions = df_filtered['sentiment_encoded'].value_counts(normalize=True) * 100\n",
    "class_counts = df_filtered['sentiment_encoded'].value_counts()\n",
    "\n",
    "class_proportions, class_counts\n",
    "\n"
   ]
  },
  {
   "cell_type": "code",
   "execution_count": 27,
   "id": "a95cb7b7-6a28-476c-aa97-f4d4975b7b8d",
   "metadata": {},
   "outputs": [
    {
     "name": "stdout",
     "output_type": "stream",
     "text": [
      "Total word count in dataset: 1169942\n"
     ]
    }
   ],
   "source": [
    "def count_words(df, column_name):\n",
    "    return df[column_name].apply(lambda x: len(str(x).split())).sum()\n",
    "\n",
    "total_word_count = count_words(df_filtered, 'content')\n",
    "# test_word_count = count_words(test_df, 'text')\n",
    "\n",
    "print(f\"Total word count in dataset: {total_word_count}\")\n",
    "# print(f\"Total word count in test dataset: {test_word_count}\")"
   ]
  },
  {
   "cell_type": "markdown",
   "id": "adc59e81-dfa9-46b4-a8f2-2cbb8db10b8c",
   "metadata": {},
   "source": [
    "## Data Preprocessing\n",
    "\n",
    "In the data preprocessing step, we are performing a series of cleaning operations on the text data to prepare it for analysis. Here’s a breakdown of each part of the process:\n",
    "\n",
    "1. **Download Stopwords**: \n",
    "   - The line `nltk.download('stopwords')` ensures that we have access to a list of common stopwords (like \"and\", \"the\", \"is\") from the NLTK library. Stopwords are words that generally do not contribute much to the meaning of a sentence and can be removed to reduce noise in the data.\n",
    "\n",
    "2. **Define a Cleaning Function**:\n",
    "   - We create a function `clean_text()` to perform multiple text preprocessing steps:\n",
    "     - **Remove URLs**: The code `re.sub(r'http\\S+|www\\S+|https\\S+', '', text, flags=re.MULTILINE)` removes any URLs from the text. URLs are not typically useful for sentiment analysis and may add noise.\n",
    "     - **Remove Mentions and Hashtags**: Using `re.sub(r'\\@\\w+|\\#','', text)`, we remove Twitter-specific elements like user mentions (`@username`) and hashtags (`#topic`). These are not essential for sentiment analysis.\n",
    "     - **Convert to Lowercase**: `text.lower()` converts the text to lowercase. This ensures uniformity, as \"Happy\" and \"happy\" would be treated as the same word.\n",
    "     - **Remove Punctuation and Special Characters**: By using `re.sub(r'\\W', ' ', text)` and `re.sub(r'\\s+', ' ', text)`, we remove any punctuation, special characters, and extra whitespace, which simplifies the text and reduces noise.\n",
    "     - **Remove Stopwords**: Finally, using a predefined list of stopwords, we filter out common, non-essential words using `text = ' '.join([word for word in text.split() if word not in stop_words])`. This helps focus on words that carry more meaning for sentiment analysis.\n",
    "\n",
    "3. **Apply the Cleaning Function**:\n",
    "   - We apply this function to the 'content' column of our dataset using `df_filtered['content'].apply(clean_text)`. This generates a new column, 'cleaned_text', which contains the processed text.\n",
    "\n",
    "4. **Display the Cleaned Data**:\n",
    "   - Finally, `df_filtered[['content', 'cleaned_text']].head()` displays the original and cleaned text for the first few entries, allowing us to inspect the preprocessing results.\n",
    "\n",
    "Overall, these preprocessing steps are essential for transforming raw text into a more standardized and analyzable format, removing unnecessary elements and focusing on the core words that carry sentiment, which helps improve the performance of subsequent machine learning models."
   ]
  },
  {
   "cell_type": "code",
   "execution_count": 28,
   "id": "c47f4751-1f7b-43e2-8bd5-12ff4205f903",
   "metadata": {},
   "outputs": [
    {
     "name": "stderr",
     "output_type": "stream",
     "text": [
      "[nltk_data] Downloading package stopwords to\n",
      "[nltk_data]     /home/kaizenx/nltk_data...\n",
      "[nltk_data]   Package stopwords is already up-to-date!\n"
     ]
    },
    {
     "data": {
      "text/html": [
       "<div>\n",
       "<style scoped>\n",
       "    .dataframe tbody tr th:only-of-type {\n",
       "        vertical-align: middle;\n",
       "    }\n",
       "\n",
       "    .dataframe tbody tr th {\n",
       "        vertical-align: top;\n",
       "    }\n",
       "\n",
       "    .dataframe thead th {\n",
       "        text-align: right;\n",
       "    }\n",
       "</style>\n",
       "<table border=\"1\" class=\"dataframe\">\n",
       "  <thead>\n",
       "    <tr style=\"text-align: right;\">\n",
       "      <th></th>\n",
       "      <th>content</th>\n",
       "      <th>cleaned_text</th>\n",
       "    </tr>\n",
       "  </thead>\n",
       "  <tbody>\n",
       "    <tr>\n",
       "      <th>0</th>\n",
       "      <td>im getting on borderlands and i will murder yo...</td>\n",
       "      <td>im getting borderlands murder</td>\n",
       "    </tr>\n",
       "    <tr>\n",
       "      <th>1</th>\n",
       "      <td>I am coming to the borders and I will kill you...</td>\n",
       "      <td>coming borders kill</td>\n",
       "    </tr>\n",
       "    <tr>\n",
       "      <th>2</th>\n",
       "      <td>im getting on borderlands and i will kill you ...</td>\n",
       "      <td>im getting borderlands kill</td>\n",
       "    </tr>\n",
       "    <tr>\n",
       "      <th>3</th>\n",
       "      <td>im coming on borderlands and i will murder you...</td>\n",
       "      <td>im coming borderlands murder</td>\n",
       "    </tr>\n",
       "    <tr>\n",
       "      <th>4</th>\n",
       "      <td>im getting on borderlands 2 and i will murder ...</td>\n",
       "      <td>im getting borderlands 2 murder</td>\n",
       "    </tr>\n",
       "  </tbody>\n",
       "</table>\n",
       "</div>"
      ],
      "text/plain": [
       "                                             content  \\\n",
       "0  im getting on borderlands and i will murder yo...   \n",
       "1  I am coming to the borders and I will kill you...   \n",
       "2  im getting on borderlands and i will kill you ...   \n",
       "3  im coming on borderlands and i will murder you...   \n",
       "4  im getting on borderlands 2 and i will murder ...   \n",
       "\n",
       "                      cleaned_text  \n",
       "0    im getting borderlands murder  \n",
       "1              coming borders kill  \n",
       "2      im getting borderlands kill  \n",
       "3     im coming borderlands murder  \n",
       "4  im getting borderlands 2 murder  "
      ]
     },
     "execution_count": 28,
     "metadata": {},
     "output_type": "execute_result"
    }
   ],
   "source": [
    "\n",
    "\n",
    "# Download stopwords if not already downloaded\n",
    "nltk.download('stopwords')\n",
    "\n",
    "# Define a function to clean the text\n",
    "def clean_text(text):\n",
    "    # Remove URLs\n",
    "    text = re.sub(r'http\\S+|www\\S+|https\\S+', '', text, flags=re.MULTILINE)\n",
    "    # Remove user mentions and hashtags\n",
    "    text = re.sub(r'\\@\\w+|\\#','', text)\n",
    "    # Convert text to lowercase\n",
    "    text = text.lower()\n",
    "    # Remove punctuation and special characters\n",
    "    text = re.sub(r'\\W', ' ', text)\n",
    "    text = re.sub(r'\\s+', ' ', text)\n",
    "    # Remove stopwords\n",
    "    stop_words = set(stopwords.words('english'))\n",
    "    text = ' '.join([word for word in text.split() if word not in stop_words])\n",
    "    return text\n",
    "\n",
    "# Apply the cleaning function to the 'text' column\n",
    "df_filtered['cleaned_text'] = df_filtered['content'].apply(clean_text)\n",
    "\n",
    "# Display the first few cleaned texts\n",
    "df_filtered[['content', 'cleaned_text']].head()\n"
   ]
  },
  {
   "cell_type": "code",
   "execution_count": 29,
   "id": "b03972a0-8ec9-4be5-abb9-0a7e41ac4631",
   "metadata": {},
   "outputs": [
    {
     "data": {
      "image/png": "[encoded data removed]",
      "text/plain": [
       "<Figure size 1000x600 with 1 Axes>"
      ]
     },
     "metadata": {},
     "output_type": "display_data"
    }
   ],
   "source": [
    "# Calculate the length of cleaned_text\n",
    "df_filtered['cleaned_text_length'] = df_filtered['cleaned_text'].str.len()\n",
    "\n",
    "# Plot the distribution of cleaned_text length\n",
    "plt.figure(figsize=(10, 6))\n",
    "plt.hist(df_filtered['cleaned_text_length'], bins=30, color='blue', edgecolor='black')\n",
    "plt.title('Distribution of Cleaned Text Length')\n",
    "plt.xlabel('Length of Cleaned Text')\n",
    "plt.ylabel('Frequency')\n",
    "plt.xticks(range(0, df_filtered['cleaned_text_length'].max() + 1, 10))\n",
    "plt.grid(axis='y', alpha=0.75)\n",
    "plt.show()"
   ]
  },
  {
   "cell_type": "code",
   "execution_count": 30,
   "id": "a792bfbf-ec11-499c-a04b-b96c7f6b3cf9",
   "metadata": {},
   "outputs": [
    {
     "data": {
      "text/plain": [
       "851"
      ]
     },
     "execution_count": 30,
     "metadata": {},
     "output_type": "execute_result"
    }
   ],
   "source": [
    "max_length = df_filtered['cleaned_text'].str.len().max()\n",
    "max_length"
   ]
  },
  {
   "cell_type": "code",
   "execution_count": 31,
   "id": "0cef029e",
   "metadata": {},
   "outputs": [
    {
     "data": {
      "text/html": [
       "<div>\n",
       "<style scoped>\n",
       "    .dataframe tbody tr th:only-of-type {\n",
       "        vertical-align: middle;\n",
       "    }\n",
       "\n",
       "    .dataframe tbody tr th {\n",
       "        vertical-align: top;\n",
       "    }\n",
       "\n",
       "    .dataframe thead th {\n",
       "        text-align: right;\n",
       "    }\n",
       "</style>\n",
       "<table border=\"1\" class=\"dataframe\">\n",
       "  <thead>\n",
       "    <tr style=\"text-align: right;\">\n",
       "      <th></th>\n",
       "      <th>ID</th>\n",
       "      <th>entity</th>\n",
       "      <th>sentiment</th>\n",
       "      <th>content</th>\n",
       "      <th>sentiment_encoded</th>\n",
       "      <th>content_length</th>\n",
       "      <th>cleaned_text</th>\n",
       "      <th>cleaned_text_length</th>\n",
       "    </tr>\n",
       "  </thead>\n",
       "  <tbody>\n",
       "    <tr>\n",
       "      <th>0</th>\n",
       "      <td>2401</td>\n",
       "      <td>Borderlands</td>\n",
       "      <td>Positive</td>\n",
       "      <td>im getting on borderlands and i will murder yo...</td>\n",
       "      <td>2</td>\n",
       "      <td>53</td>\n",
       "      <td>im getting borderlands murder</td>\n",
       "      <td>29</td>\n",
       "    </tr>\n",
       "    <tr>\n",
       "      <th>1</th>\n",
       "      <td>2401</td>\n",
       "      <td>Borderlands</td>\n",
       "      <td>Positive</td>\n",
       "      <td>I am coming to the borders and I will kill you...</td>\n",
       "      <td>2</td>\n",
       "      <td>51</td>\n",
       "      <td>coming borders kill</td>\n",
       "      <td>19</td>\n",
       "    </tr>\n",
       "    <tr>\n",
       "      <th>2</th>\n",
       "      <td>2401</td>\n",
       "      <td>Borderlands</td>\n",
       "      <td>Positive</td>\n",
       "      <td>im getting on borderlands and i will kill you ...</td>\n",
       "      <td>2</td>\n",
       "      <td>50</td>\n",
       "      <td>im getting borderlands kill</td>\n",
       "      <td>27</td>\n",
       "    </tr>\n",
       "    <tr>\n",
       "      <th>3</th>\n",
       "      <td>2401</td>\n",
       "      <td>Borderlands</td>\n",
       "      <td>Positive</td>\n",
       "      <td>im coming on borderlands and i will murder you...</td>\n",
       "      <td>2</td>\n",
       "      <td>51</td>\n",
       "      <td>im coming borderlands murder</td>\n",
       "      <td>28</td>\n",
       "    </tr>\n",
       "    <tr>\n",
       "      <th>4</th>\n",
       "      <td>2401</td>\n",
       "      <td>Borderlands</td>\n",
       "      <td>Positive</td>\n",
       "      <td>im getting on borderlands 2 and i will murder ...</td>\n",
       "      <td>2</td>\n",
       "      <td>57</td>\n",
       "      <td>im getting borderlands 2 murder</td>\n",
       "      <td>31</td>\n",
       "    </tr>\n",
       "  </tbody>\n",
       "</table>\n",
       "</div>"
      ],
      "text/plain": [
       "     ID       entity sentiment  \\\n",
       "0  2401  Borderlands  Positive   \n",
       "1  2401  Borderlands  Positive   \n",
       "2  2401  Borderlands  Positive   \n",
       "3  2401  Borderlands  Positive   \n",
       "4  2401  Borderlands  Positive   \n",
       "\n",
       "                                             content  sentiment_encoded  \\\n",
       "0  im getting on borderlands and i will murder yo...                  2   \n",
       "1  I am coming to the borders and I will kill you...                  2   \n",
       "2  im getting on borderlands and i will kill you ...                  2   \n",
       "3  im coming on borderlands and i will murder you...                  2   \n",
       "4  im getting on borderlands 2 and i will murder ...                  2   \n",
       "\n",
       "   content_length                     cleaned_text  cleaned_text_length  \n",
       "0              53    im getting borderlands murder                   29  \n",
       "1              51              coming borders kill                   19  \n",
       "2              50      im getting borderlands kill                   27  \n",
       "3              51     im coming borderlands murder                   28  \n",
       "4              57  im getting borderlands 2 murder                   31  "
      ]
     },
     "execution_count": 31,
     "metadata": {},
     "output_type": "execute_result"
    }
   ],
   "source": [
    "df_filtered.head(5)"
   ]
  },
  {
   "cell_type": "code",
   "execution_count": 32,
   "id": "c3ce8cb1",
   "metadata": {},
   "outputs": [
    {
     "name": "stdout",
     "output_type": "stream",
     "text": [
      "25\n"
     ]
    }
   ],
   "source": [
    "# How many rows \n",
    "class_counts = df_filtered['cleaned_text_length'].value_counts()\n",
    "classes_to_keep = class_counts[class_counts <= 1].index\n",
    "\n",
    "# Step 2: Filter rows where 'class' is in classes_to_keep\n",
    "filtered_rows = df_filtered[df_filtered['cleaned_text_length'].isin(classes_to_keep)]\n",
    "\n",
    "# Print the filtered rows\n",
    "print(len(filtered_rows))"
   ]
  },
  {
   "cell_type": "markdown",
   "id": "23d5ba31",
   "metadata": {},
   "source": [
    "### Conclusion of EDA\n",
    "1. Low or no class imbalance detected in data, class distribution is 36.539584% for 0, 29.692667% for 1, and 33.767749% for 2.0.\n",
    "2. Total word count is 1422693 words.\n",
    "3. Text length is un-evenly distributed, from visual inspection of the histogram, looks skewed.\n",
    "4. Post cleanup, still looks skewed, but we will deal with it in the model"
   ]
  },
  {
   "cell_type": "markdown",
   "id": "3513eda9",
   "metadata": {},
   "source": [
    "## Creation and further cleanup\n",
    "\n",
    "There were some rows of data that had too little data and they had to be filtered out. 25 is fine, our dataset is huge."
   ]
  },
  {
   "cell_type": "code",
   "execution_count": 33,
   "id": "6e93eb14",
   "metadata": {},
   "outputs": [
    {
     "data": {
      "text/html": [
       "<div>\n",
       "<style scoped>\n",
       "    .dataframe tbody tr th:only-of-type {\n",
       "        vertical-align: middle;\n",
       "    }\n",
       "\n",
       "    .dataframe tbody tr th {\n",
       "        vertical-align: top;\n",
       "    }\n",
       "\n",
       "    .dataframe thead th {\n",
       "        text-align: right;\n",
       "    }\n",
       "</style>\n",
       "<table border=\"1\" class=\"dataframe\">\n",
       "  <thead>\n",
       "    <tr style=\"text-align: right;\">\n",
       "      <th></th>\n",
       "      <th>ID</th>\n",
       "      <th>entity</th>\n",
       "      <th>sentiment</th>\n",
       "      <th>content</th>\n",
       "      <th>sentiment_encoded</th>\n",
       "      <th>content_length</th>\n",
       "      <th>cleaned_text</th>\n",
       "      <th>cleaned_text_length</th>\n",
       "    </tr>\n",
       "  </thead>\n",
       "  <tbody>\n",
       "    <tr>\n",
       "      <th>0</th>\n",
       "      <td>2401</td>\n",
       "      <td>Borderlands</td>\n",
       "      <td>Positive</td>\n",
       "      <td>im getting on borderlands and i will murder yo...</td>\n",
       "      <td>2</td>\n",
       "      <td>53</td>\n",
       "      <td>im getting borderlands murder</td>\n",
       "      <td>29</td>\n",
       "    </tr>\n",
       "    <tr>\n",
       "      <th>1</th>\n",
       "      <td>2401</td>\n",
       "      <td>Borderlands</td>\n",
       "      <td>Positive</td>\n",
       "      <td>I am coming to the borders and I will kill you...</td>\n",
       "      <td>2</td>\n",
       "      <td>51</td>\n",
       "      <td>coming borders kill</td>\n",
       "      <td>19</td>\n",
       "    </tr>\n",
       "    <tr>\n",
       "      <th>2</th>\n",
       "      <td>2401</td>\n",
       "      <td>Borderlands</td>\n",
       "      <td>Positive</td>\n",
       "      <td>im getting on borderlands and i will kill you ...</td>\n",
       "      <td>2</td>\n",
       "      <td>50</td>\n",
       "      <td>im getting borderlands kill</td>\n",
       "      <td>27</td>\n",
       "    </tr>\n",
       "    <tr>\n",
       "      <th>3</th>\n",
       "      <td>2401</td>\n",
       "      <td>Borderlands</td>\n",
       "      <td>Positive</td>\n",
       "      <td>im coming on borderlands and i will murder you...</td>\n",
       "      <td>2</td>\n",
       "      <td>51</td>\n",
       "      <td>im coming borderlands murder</td>\n",
       "      <td>28</td>\n",
       "    </tr>\n",
       "    <tr>\n",
       "      <th>4</th>\n",
       "      <td>2401</td>\n",
       "      <td>Borderlands</td>\n",
       "      <td>Positive</td>\n",
       "      <td>im getting on borderlands 2 and i will murder ...</td>\n",
       "      <td>2</td>\n",
       "      <td>57</td>\n",
       "      <td>im getting borderlands 2 murder</td>\n",
       "      <td>31</td>\n",
       "    </tr>\n",
       "  </tbody>\n",
       "</table>\n",
       "</div>"
      ],
      "text/plain": [
       "     ID       entity sentiment  \\\n",
       "0  2401  Borderlands  Positive   \n",
       "1  2401  Borderlands  Positive   \n",
       "2  2401  Borderlands  Positive   \n",
       "3  2401  Borderlands  Positive   \n",
       "4  2401  Borderlands  Positive   \n",
       "\n",
       "                                             content  sentiment_encoded  \\\n",
       "0  im getting on borderlands and i will murder yo...                  2   \n",
       "1  I am coming to the borders and I will kill you...                  2   \n",
       "2  im getting on borderlands and i will kill you ...                  2   \n",
       "3  im coming on borderlands and i will murder you...                  2   \n",
       "4  im getting on borderlands 2 and i will murder ...                  2   \n",
       "\n",
       "   content_length                     cleaned_text  cleaned_text_length  \n",
       "0              53    im getting borderlands murder                   29  \n",
       "1              51              coming borders kill                   19  \n",
       "2              50      im getting borderlands kill                   27  \n",
       "3              51     im coming borderlands murder                   28  \n",
       "4              57  im getting borderlands 2 murder                   31  "
      ]
     },
     "execution_count": 33,
     "metadata": {},
     "output_type": "execute_result"
    }
   ],
   "source": [
    "# Create training and test set\n",
    "# train_df, test_df = train_test_split(data, test_size=0.3, stratify=data['cleaned_text_length'])\n",
    "\n",
    "class_counts = df_filtered['cleaned_text_length'].value_counts()\n",
    "classes_to_keep = class_counts[class_counts > 1].index\n",
    "\n",
    "train_df = df_filtered[df_filtered['cleaned_text_length'].isin(classes_to_keep)]\n",
    "\n",
    "# Create training and test set\n",
    "# train_df, test_df = train_test_split(df_final_filtered, test_size=0.2, stratify=df_final_filtered['cleaned_text_length'])\n",
    "\n",
    "# Create validation set from training set\n",
    "# train_df, validation_df = train_test_split(train_df, test_size=0.2)\n",
    "# Display results\n",
    "train_df.head(5)\n",
    "\n"
   ]
  },
  {
   "cell_type": "code",
   "execution_count": 34,
   "id": "9bc5e541",
   "metadata": {},
   "outputs": [
    {
     "data": {
      "text/html": [
       "<div>\n",
       "<style scoped>\n",
       "    .dataframe tbody tr th:only-of-type {\n",
       "        vertical-align: middle;\n",
       "    }\n",
       "\n",
       "    .dataframe tbody tr th {\n",
       "        vertical-align: top;\n",
       "    }\n",
       "\n",
       "    .dataframe thead th {\n",
       "        text-align: right;\n",
       "    }\n",
       "</style>\n",
       "<table border=\"1\" class=\"dataframe\">\n",
       "  <thead>\n",
       "    <tr style=\"text-align: right;\">\n",
       "      <th></th>\n",
       "      <th>ID</th>\n",
       "      <th>entity</th>\n",
       "      <th>sentiment</th>\n",
       "      <th>content</th>\n",
       "      <th>sentiment_encoded</th>\n",
       "    </tr>\n",
       "  </thead>\n",
       "  <tbody>\n",
       "    <tr>\n",
       "      <th>1</th>\n",
       "      <td>352</td>\n",
       "      <td>Amazon</td>\n",
       "      <td>Neutral</td>\n",
       "      <td>BBC News - Amazon boss Jeff Bezos rejects clai...</td>\n",
       "      <td>1</td>\n",
       "    </tr>\n",
       "    <tr>\n",
       "      <th>2</th>\n",
       "      <td>8312</td>\n",
       "      <td>Microsoft</td>\n",
       "      <td>Negative</td>\n",
       "      <td>@Microsoft Why do I pay for WORD when it funct...</td>\n",
       "      <td>0</td>\n",
       "    </tr>\n",
       "    <tr>\n",
       "      <th>3</th>\n",
       "      <td>4371</td>\n",
       "      <td>CS-GO</td>\n",
       "      <td>Negative</td>\n",
       "      <td>CSGO matchmaking is so full of closet hacking,...</td>\n",
       "      <td>0</td>\n",
       "    </tr>\n",
       "    <tr>\n",
       "      <th>4</th>\n",
       "      <td>4433</td>\n",
       "      <td>Google</td>\n",
       "      <td>Neutral</td>\n",
       "      <td>Now the President is slapping Americans in the...</td>\n",
       "      <td>1</td>\n",
       "    </tr>\n",
       "    <tr>\n",
       "      <th>5</th>\n",
       "      <td>6273</td>\n",
       "      <td>FIFA</td>\n",
       "      <td>Negative</td>\n",
       "      <td>Hi @EAHelp I’ve had Madeleine McCann in my cel...</td>\n",
       "      <td>0</td>\n",
       "    </tr>\n",
       "  </tbody>\n",
       "</table>\n",
       "</div>"
      ],
      "text/plain": [
       "     ID     entity sentiment  \\\n",
       "1   352     Amazon   Neutral   \n",
       "2  8312  Microsoft  Negative   \n",
       "3  4371      CS-GO  Negative   \n",
       "4  4433     Google   Neutral   \n",
       "5  6273       FIFA  Negative   \n",
       "\n",
       "                                             content  sentiment_encoded  \n",
       "1  BBC News - Amazon boss Jeff Bezos rejects clai...                  1  \n",
       "2  @Microsoft Why do I pay for WORD when it funct...                  0  \n",
       "3  CSGO matchmaking is so full of closet hacking,...                  0  \n",
       "4  Now the President is slapping Americans in the...                  1  \n",
       "5  Hi @EAHelp I’ve had Madeleine McCann in my cel...                  0  "
      ]
     },
     "execution_count": 34,
     "metadata": {},
     "output_type": "execute_result"
    }
   ],
   "source": [
    "test_df.head(5)"
   ]
  },
  {
   "cell_type": "code",
   "execution_count": 35,
   "id": "2e844cbd-c1e2-44a7-9843-b4c30ee23052",
   "metadata": {},
   "outputs": [],
   "source": [
    "# Use cleaned_text in training\n",
    "X = train_df[\"cleaned_text\"]\n",
    "y = train_df[\"sentiment_encoded\"]\n",
    "X_test = test_df[\"sentiment_encoded\"]\n"
   ]
  },
  {
   "cell_type": "code",
   "execution_count": 36,
   "id": "1a5c8d45-1548-49cf-b92a-5e443b1026cb",
   "metadata": {},
   "outputs": [],
   "source": [
    "X_train, X_val, y_train, y_val = train_test_split(X, y, random_state=42, test_size=0.1)"
   ]
  },
  {
   "cell_type": "markdown",
   "id": "e705b4a2-1353-4a87-8b3c-1af5995bd202",
   "metadata": {},
   "source": [
    "## Model\n",
    "\n",
    "The architecture we have implemented is designed to be effective for tweet sentiment classification due to its ability to capture both semantic and sequential patterns within text data. Here’s why each component contributes to the model's overall effectiveness:\n",
    "\n",
    "1. **Embedding Layer**:\n",
    "   - By using an embedding layer with a 300-dimensional vector space, our model can effectively capture the semantic relationships between words. This is crucial for sentiment analysis, as it helps the model understand nuanced language patterns and word meanings beyond simple keyword matching. For instance, words like \"happy\" and \"joyful\" will have similar embeddings, allowing the model to recognize them as conveying positive sentiment.\n",
    "\n",
    "2. **LSTM Layers**:\n",
    "   - LSTMs are a type of recurrent neural network designed specifically for sequential data, which makes them ideal for processing text. Our architecture includes two LSTM layers with 128 units each. The first LSTM layer captures short-term dependencies while also passing on information to the next layer, which processes the sequence further. This stacking of LSTMs allows the model to learn both short-term and long-term dependencies within tweets.\n",
    "   - This is particularly useful for tweets, where sentiment can depend on the context created by the order of words. LSTMs can remember relevant information over extended sequences, enabling the model to understand complex patterns like sarcasm or negation (e.g., “I am not happy” vs. “I am happy”).\n",
    "\n",
    "3. **Regularization Techniques**:\n",
    "   - The inclusion of `SpatialDropout1D` and dropout within the LSTM layers helps reduce overfitting, which is essential for handling the diverse and often noisy data in tweets. SpatialDropout1D, in particular, is effective for text data because it randomly drops entire feature maps, making the model more robust and less reliant on specific words or patterns.\n",
    "   - Batch normalization stabilizes the training process by normalizing the output from the first LSTM layer, leading to faster convergence and potentially better generalization.\n",
    "\n",
    "4. **Output Layer with Softmax Activation**:\n",
    "   - Our output layer uses a softmax activation function, which is ideal for multi-class classification problems like sentiment analysis with three classes (Positive, Negative, and Neutral). The softmax function assigns probabilities to each class, allowing the model to output a predicted class distribution that reflects the sentiment expressed in the tweet.\n",
    "\n",
    "5. **Use of the Adam Optimizer**:\n",
    "   - The Adam optimizer is known for its adaptive learning rate, making it particularly effective for deep learning models that involve multiple layers and non-linear activations. By adjusting the learning rate dynamically, Adam helps ensure stable convergence even when training complex models, contributing to the overall effectiveness of our architecture.\n",
    "\n",
    "### Why This Architecture is Effective for Tweet Sentiment Classification\n",
    "Tweets are typically short, informal, and can express sentiment through various linguistic patterns, including emoticons, abbreviations, and slang. The combination of embedding, LSTM layers, dropout regularization, and the softmax output allows our model to:\n",
    "- **Capture Semantic Relationships**: Through the embedding layer, our model understands word meanings and similarities, which is essential for accurate sentiment prediction.\n",
    "- **Handle Sequential Context**: The stacked LSTM layers capture the sequential flow of information, allowing the model to recognize sentiment that depends on the order and structure of words.\n",
    "- **Generalize Across Diverse Inputs**: With dropout and regularization, the model can effectively handle the variability and noise common in social media text, ensuring that it does not overfit to specific phrases or patterns.\n",
    "\n",
    "Overall, this architecture provides a robust framework for handling the unique challenges of tweet sentiment classification, making it well-suited to capture both the direct and subtle cues that indicate sentiment in tweets."
   ]
  },
  {
   "cell_type": "code",
   "execution_count": 37,
   "id": "05378e61-cf4f-45a8-85be-0c9e9a9e669f",
   "metadata": {},
   "outputs": [
    {
     "name": "stderr",
     "output_type": "stream",
     "text": [
      "I0000 00:00:1729002101.166844    4707 cuda_executor.cc:1001] could not open file to read NUMA node: /sys/bus/pci/devices/0000:0a:00.0/numa_node\n",
      "Your kernel may have been built without NUMA support.\n",
      "I0000 00:00:1729002101.166979    4707 cuda_executor.cc:1001] could not open file to read NUMA node: /sys/bus/pci/devices/0000:0a:00.0/numa_node\n",
      "Your kernel may have been built without NUMA support.\n",
      "I0000 00:00:1729002101.167047    4707 cuda_executor.cc:1001] could not open file to read NUMA node: /sys/bus/pci/devices/0000:0a:00.0/numa_node\n",
      "Your kernel may have been built without NUMA support.\n",
      "I0000 00:00:1729002101.429718    4707 cuda_executor.cc:1001] could not open file to read NUMA node: /sys/bus/pci/devices/0000:0a:00.0/numa_node\n",
      "Your kernel may have been built without NUMA support.\n",
      "I0000 00:00:1729002101.429824    4707 cuda_executor.cc:1001] could not open file to read NUMA node: /sys/bus/pci/devices/0000:0a:00.0/numa_node\n",
      "Your kernel may have been built without NUMA support.\n",
      "2024-10-15 22:21:41.429863: I tensorflow/core/common_runtime/gpu/gpu_device.cc:2112] Could not identify NUMA node of platform GPU id 0, defaulting to 0.  Your kernel may not have been built with NUMA support.\n",
      "I0000 00:00:1729002101.429963    4707 cuda_executor.cc:1001] could not open file to read NUMA node: /sys/bus/pci/devices/0000:0a:00.0/numa_node\n",
      "Your kernel may have been built without NUMA support.\n",
      "2024-10-15 22:21:41.429998: I tensorflow/core/common_runtime/gpu/gpu_device.cc:2021] Created device /job:localhost/replica:0/task:0/device:GPU:0 with 9711 MB memory:  -> device: 0, name: NVIDIA GeForce RTX 3060, pci bus id: 0000:0a:00.0, compute capability: 8.6\n"
     ]
    }
   ],
   "source": [
    "# Step 1: Tokenize and Pad the Sequences\n",
    "# Initialize the tokenizer and fit on the training data\n",
    "tokenizer = Tokenizer(num_words = 3000, oov_token=\"<OOV>\")\n",
    "tokenizer.fit_on_texts(X_train)\n",
    "\n",
    "# Convert text to sequences\n",
    "X_train_seq = tokenizer.texts_to_sequences(X_train)\n",
    "X_val_seq = tokenizer.texts_to_sequences(X_val)\n",
    "\n",
    "# Pad the sequences to the maximum length found in the training data\n",
    "max_length = 130  # Define a max length based on tweet length analysis or trial and error\n",
    "X_train_pad = pad_sequences(X_train_seq, maxlen=max_length, padding='post')\n",
    "X_val_pad = pad_sequences(X_val_seq, maxlen=max_length, padding='post')\n",
    "\n",
    "# Step 2: Build and Compile the Model\n",
    "vocab_size = len(tokenizer.word_index) + 1  # Vocabulary size\n",
    "# embedding from 50 to 300 because 300 is a common value\n",
    "embedding_dim = 300                        # Dimension of embedding vector\n",
    "# lstm went from 64, 128\n",
    "lstm_units = 128                        # Number of LSTM units\n",
    "num_classes = 3 \n",
    "\n",
    "# Define the model\n",
    "model = Sequential()\n",
    "# Add embedding layer\n",
    "model.add(Embedding(input_dim=3000, output_dim=embedding_dim))\n",
    "model.add(SpatialDropout1D(0.2))  # Decrease from 0.3 to 0.2\n",
    "model.add(LSTM(units=lstm_units, dropout=0.2, return_sequences=True))  # Set return_sequences=True for stacking LSTMs\n",
    "model.add(BatchNormalization())\n",
    "model.add(LSTM(units=lstm_units, dropout=0.2))\n",
    "# model.add(Dense(1, activation='sigmoid'))\n",
    "# model.add(Dense(num_classes, activation='softmax'))\n",
    "# model.add(Dropout(0.2)) no overfitting not needed\n",
    "model.add(Dense(num_classes, activation='softmax', kernel_regularizer=l2(0.001)))\n",
    "\n",
    "\n",
    "# Set the initial learning rate\n",
    "initial_learning_rate = 0.01\n",
    "\n",
    "# Configure the optimizer with the initial learning rate\n",
    "optimizer = Adam(learning_rate=initial_learning_rate)\n",
    "\n",
    "# Compile the model with the configured optimizer\n",
    "# model.compile(optimizer=optimizer, loss='binary_crossentropy', metrics=['accuracy'])\n",
    "# model.compile(optimizer=optimizer, loss='binary_crossentropy', metrics=[F1Score(threshold = 0.5)])\n",
    "# For macro-averaged F1 score (equal importance to all classes)\n",
    "model.compile(optimizer=optimizer, loss='sparse_categorical_crossentropy', metrics=['accuracy'])"
   ]
  },
  {
   "cell_type": "markdown",
   "id": "18fe6067",
   "metadata": {},
   "source": [
    "## Hyperparameter Tuning\n",
    "\n",
    "In our code, we perform hyperparameter tuning at multiple levels to optimize the performance of our LSTM model for tweet sentiment classification. Here’s an explanation of the main hyperparameters we have tuned, along with their potential impact on the model:\n",
    "\n",
    "### 1. Tokenizer Hyperparameters\n",
    "- **Vocabulary Size (`num_words=3000`)**: \n",
    "  - We limit the vocabulary size to the top 3,000 most frequent words. This choice balances model performance and computational efficiency, as a larger vocabulary might include less relevant or infrequent words that do not significantly contribute to sentiment classification.\n",
    "\n",
    "- **Maximum Sequence Length (`max_length=130`)**:\n",
    "  - The sequence length is set to 130 based on tweet length analysis. This hyperparameter ensures that all tweets are padded or truncated to a uniform length, which is crucial for the LSTM model. We experimented with various lengths to capture sufficient context from tweets without introducing too much padding, which could dilute meaningful content.\n",
    "\n",
    "### 2. Model Architecture Hyperparameters\n",
    "- **Embedding Dimension (`embedding_dim=300`)**:\n",
    "  - The embedding dimension represents the size of the word vector space. We selected 300, a common size that captures detailed semantic relationships between words without introducing unnecessary complexity. This choice strikes a balance between the richness of word representations and computational efficiency.\n",
    "\n",
    "- **LSTM Units (`lstm_units=128`)**:\n",
    "  - The number of units in each LSTM layer is set to 128, after testing different values (such as 64 and 128). This allows the model to effectively capture long-term dependencies in the text, which is essential for sentiment analysis where the order of words impacts the overall sentiment.\n",
    "\n",
    "- **Dropout Rate (`SpatialDropout1D(0.2)` and `dropout=0.2` in LSTM layers)**:\n",
    "  - Dropout is used to prevent overfitting by randomly setting a fraction of the units to zero during training. We reduced the dropout rate slightly from 0.3 to 0.2 after observing better validation performance. These values were selected based on trial and error to optimize generalization without sacrificing too much information.\n",
    "\n",
    "- **L2 Regularization (`kernel_regularizer=l2(0.001)`)**:\n",
    "  - We applied L2 regularization to the output layer, which penalizes large weights, further helping to prevent overfitting. The regularization coefficient was chosen to be small enough to avoid overly penalizing the model, while still effectively controlling for complexity.\n",
    "\n",
    "### 3. Optimization Hyperparameters\n",
    "- **Initial Learning Rate (`learning_rate=0.01`)**:\n",
    "  - Our initial learning rate is set to 0.01 for the Adam optimizer. This value was chosen as it provided a good balance between training speed and stability. To ensure stable convergence, we implemented a `ReduceLROnPlateau` callback that reduces the learning rate by a factor of 0.1 if the validation loss does not improve for three consecutive epochs.\n",
    "\n",
    "- **Batch Size (`batch_size=32`)**:\n",
    "  - We experimented with different batch sizes and settled on 32, as it provided a balance between training time and model accuracy. A smaller batch size (e.g., 16) could have resulted in noisier updates and longer training time, while a larger batch size (e.g., 64) might have led to less robust convergence.\n",
    "\n",
    "### 4. Training Hyperparameters and Callbacks\n",
    "- **Early Stopping (`patience=3`)**:\n",
    "  - To prevent overfitting and avoid unnecessary epochs, we implemented early stopping with a patience of 3. This means that if the validation loss does not improve for three epochs, training will stop, and the model will revert to the weights from the epoch with the best validation performance.\n",
    "\n",
    "- **ReduceLROnPlateau (`factor=0.1`, `patience=3`, `min_lr=1e-6`)**:\n",
    "  - This callback reduces the learning rate by a factor of 0.1 if the validation loss does not improve within three epochs. This helps the model fine-tune its learning as it approaches convergence, allowing it to continue optimizing at a slower pace without overshooting the minimum loss.\n",
    "\n",
    "- **ModelCheckpoint**:\n",
    "  - We use `ModelCheckpoint` to save the best model based on validation loss. This ensures that we have a saved version of the model that performed best on the validation data, which helps to mitigate the risk of overfitting.\n",
    "\n",
    "Through this combination of hyperparameters, our model is well-tuned for tweet sentiment classification. By optimizing the tokenizer, model architecture, optimization settings, and training process, we ensure that the model is both effective and generalizable, capable of capturing nuanced sentiment patterns in tweet data."
   ]
  },
  {
   "cell_type": "code",
   "execution_count": 38,
   "id": "095a90a9-509f-46b3-8bc8-a171655fba52",
   "metadata": {},
   "outputs": [
    {
     "name": "stdout",
     "output_type": "stream",
     "text": [
      "Epoch 1/20\n"
     ]
    },
    {
     "name": "stderr",
     "output_type": "stream",
     "text": [
      "2024-10-15 22:21:49.471528: I external/local_xla/xla/stream_executor/cuda/cuda_dnn.cc:531] Loaded cuDNN version 8907\n"
     ]
    },
    {
     "name": "stdout",
     "output_type": "stream",
     "text": [
      "\u001b[1m1735/1735\u001b[0m \u001b[32m━━━━━━━━━━━━━━━━━━━━\u001b[0m\u001b[37m\u001b[0m \u001b[1m0s\u001b[0m 40ms/step - accuracy: 0.3980 - loss: 1.0913\n",
      "Epoch 1: val_loss improved from inf to 0.92046, saving model to model/tweet_sentiment.keras\n",
      "\u001b[1m1735/1735\u001b[0m \u001b[32m━━━━━━━━━━━━━━━━━━━━\u001b[0m\u001b[37m\u001b[0m \u001b[1m78s\u001b[0m 42ms/step - accuracy: 0.3981 - loss: 1.0913 - val_accuracy: 0.5844 - val_loss: 0.9205 - learning_rate: 0.0100\n",
      "Epoch 2/20\n",
      "\u001b[1m1735/1735\u001b[0m \u001b[32m━━━━━━━━━━━━━━━━━━━━\u001b[0m\u001b[37m\u001b[0m \u001b[1m0s\u001b[0m 39ms/step - accuracy: 0.6055 - loss: 0.8954\n",
      "Epoch 2: val_loss improved from 0.92046 to 0.86634, saving model to model/tweet_sentiment.keras\n",
      "\u001b[1m1735/1735\u001b[0m \u001b[32m━━━━━━━━━━━━━━━━━━━━\u001b[0m\u001b[37m\u001b[0m \u001b[1m71s\u001b[0m 41ms/step - accuracy: 0.6055 - loss: 0.8954 - val_accuracy: 0.6227 - val_loss: 0.8663 - learning_rate: 0.0100\n",
      "Epoch 3/20\n",
      "\u001b[1m1734/1735\u001b[0m \u001b[32m━━━━━━━━━━━━━━━━━━━\u001b[0m\u001b[37m━\u001b[0m \u001b[1m0s\u001b[0m 39ms/step - accuracy: 0.6350 - loss: 0.8428\n",
      "Epoch 3: val_loss improved from 0.86634 to 0.81031, saving model to model/tweet_sentiment.keras\n",
      "\u001b[1m1735/1735\u001b[0m \u001b[32m━━━━━━━━━━━━━━━━━━━━\u001b[0m\u001b[37m\u001b[0m \u001b[1m72s\u001b[0m 41ms/step - accuracy: 0.6350 - loss: 0.8428 - val_accuracy: 0.6499 - val_loss: 0.8103 - learning_rate: 0.0100\n",
      "Epoch 4/20\n",
      "\u001b[1m1735/1735\u001b[0m \u001b[32m━━━━━━━━━━━━━━━━━━━━\u001b[0m\u001b[37m\u001b[0m \u001b[1m0s\u001b[0m 39ms/step - accuracy: 0.6499 - loss: 0.8121\n",
      "Epoch 4: val_loss did not improve from 0.81031\n",
      "\u001b[1m1735/1735\u001b[0m \u001b[32m━━━━━━━━━━━━━━━━━━━━\u001b[0m\u001b[37m\u001b[0m \u001b[1m71s\u001b[0m 41ms/step - accuracy: 0.6499 - loss: 0.8121 - val_accuracy: 0.6264 - val_loss: 0.8563 - learning_rate: 0.0100\n",
      "Epoch 5/20\n",
      "\u001b[1m1734/1735\u001b[0m \u001b[32m━━━━━━━━━━━━━━━━━━━\u001b[0m\u001b[37m━\u001b[0m \u001b[1m0s\u001b[0m 41ms/step - accuracy: 0.6553 - loss: 0.8066\n",
      "Epoch 5: val_loss did not improve from 0.81031\n",
      "\u001b[1m1735/1735\u001b[0m \u001b[32m━━━━━━━━━━━━━━━━━━━━\u001b[0m\u001b[37m\u001b[0m \u001b[1m74s\u001b[0m 43ms/step - accuracy: 0.6553 - loss: 0.8066 - val_accuracy: 0.6556 - val_loss: 0.8140 - learning_rate: 0.0100\n",
      "Epoch 6/20\n",
      "\u001b[1m1734/1735\u001b[0m \u001b[32m━━━━━━━━━━━━━━━━━━━\u001b[0m\u001b[37m━\u001b[0m \u001b[1m0s\u001b[0m 41ms/step - accuracy: 0.6600 - loss: 0.7957\n",
      "Epoch 6: val_loss did not improve from 0.81031\n",
      "\u001b[1m1735/1735\u001b[0m \u001b[32m━━━━━━━━━━━━━━━━━━━━\u001b[0m\u001b[37m\u001b[0m \u001b[1m73s\u001b[0m 42ms/step - accuracy: 0.6600 - loss: 0.7957 - val_accuracy: 0.6493 - val_loss: 0.8164 - learning_rate: 0.0100\n"
     ]
    },
    {
     "data": {
      "text/html": [
       "<pre style=\"white-space:pre;overflow-x:auto;line-height:normal;font-family:Menlo,'DejaVu Sans Mono',consolas,'Courier New',monospace\"><span style=\"font-weight: bold\">Model: \"sequential\"</span>\n",
       "</pre>\n"
      ],
      "text/plain": [
       "\u001b[1mModel: \"sequential\"\u001b[0m\n"
      ]
     },
     "metadata": {},
     "output_type": "display_data"
    },
    {
     "data": {
      "text/html": [
       "<pre style=\"white-space:pre;overflow-x:auto;line-height:normal;font-family:Menlo,'DejaVu Sans Mono',consolas,'Courier New',monospace\">┏━━━━━━━━━━━━━━━━━━━━━━━━━━━━━━━━━┳━━━━━━━━━━━━━━━━━━━━━━━━┳━━━━━━━━━━━━━━━┓\n",
       "┃<span style=\"font-weight: bold\"> Layer (type)                    </span>┃<span style=\"font-weight: bold\"> Output Shape           </span>┃<span style=\"font-weight: bold\">       Param # </span>┃\n",
       "┡━━━━━━━━━━━━━━━━━━━━━━━━━━━━━━━━━╇━━━━━━━━━━━━━━━━━━━━━━━━╇━━━━━━━━━━━━━━━┩\n",
       "│ embedding (<span style=\"color: #0087ff; text-decoration-color: #0087ff\">Embedding</span>)           │ (<span style=\"color: #00d7ff; text-decoration-color: #00d7ff\">None</span>, <span style=\"color: #00af00; text-decoration-color: #00af00\">130</span>, <span style=\"color: #00af00; text-decoration-color: #00af00\">300</span>)       │       <span style=\"color: #00af00; text-decoration-color: #00af00\">900,000</span> │\n",
       "├─────────────────────────────────┼────────────────────────┼───────────────┤\n",
       "│ spatial_dropout1d               │ (<span style=\"color: #00d7ff; text-decoration-color: #00d7ff\">None</span>, <span style=\"color: #00af00; text-decoration-color: #00af00\">130</span>, <span style=\"color: #00af00; text-decoration-color: #00af00\">300</span>)       │             <span style=\"color: #00af00; text-decoration-color: #00af00\">0</span> │\n",
       "│ (<span style=\"color: #0087ff; text-decoration-color: #0087ff\">SpatialDropout1D</span>)              │                        │               │\n",
       "├─────────────────────────────────┼────────────────────────┼───────────────┤\n",
       "│ lstm (<span style=\"color: #0087ff; text-decoration-color: #0087ff\">LSTM</span>)                     │ (<span style=\"color: #00d7ff; text-decoration-color: #00d7ff\">None</span>, <span style=\"color: #00af00; text-decoration-color: #00af00\">130</span>, <span style=\"color: #00af00; text-decoration-color: #00af00\">128</span>)       │       <span style=\"color: #00af00; text-decoration-color: #00af00\">219,648</span> │\n",
       "├─────────────────────────────────┼────────────────────────┼───────────────┤\n",
       "│ batch_normalization             │ (<span style=\"color: #00d7ff; text-decoration-color: #00d7ff\">None</span>, <span style=\"color: #00af00; text-decoration-color: #00af00\">130</span>, <span style=\"color: #00af00; text-decoration-color: #00af00\">128</span>)       │           <span style=\"color: #00af00; text-decoration-color: #00af00\">512</span> │\n",
       "│ (<span style=\"color: #0087ff; text-decoration-color: #0087ff\">BatchNormalization</span>)            │                        │               │\n",
       "├─────────────────────────────────┼────────────────────────┼───────────────┤\n",
       "│ lstm_1 (<span style=\"color: #0087ff; text-decoration-color: #0087ff\">LSTM</span>)                   │ (<span style=\"color: #00d7ff; text-decoration-color: #00d7ff\">None</span>, <span style=\"color: #00af00; text-decoration-color: #00af00\">128</span>)            │       <span style=\"color: #00af00; text-decoration-color: #00af00\">131,584</span> │\n",
       "├─────────────────────────────────┼────────────────────────┼───────────────┤\n",
       "│ dense (<span style=\"color: #0087ff; text-decoration-color: #0087ff\">Dense</span>)                   │ (<span style=\"color: #00d7ff; text-decoration-color: #00d7ff\">None</span>, <span style=\"color: #00af00; text-decoration-color: #00af00\">3</span>)              │           <span style=\"color: #00af00; text-decoration-color: #00af00\">387</span> │\n",
       "└─────────────────────────────────┴────────────────────────┴───────────────┘\n",
       "</pre>\n"
      ],
      "text/plain": [
       "┏━━━━━━━━━━━━━━━━━━━━━━━━━━━━━━━━━┳━━━━━━━━━━━━━━━━━━━━━━━━┳━━━━━━━━━━━━━━━┓\n",
       "┃\u001b[1m \u001b[0m\u001b[1mLayer (type)                   \u001b[0m\u001b[1m \u001b[0m┃\u001b[1m \u001b[0m\u001b[1mOutput Shape          \u001b[0m\u001b[1m \u001b[0m┃\u001b[1m \u001b[0m\u001b[1m      Param #\u001b[0m\u001b[1m \u001b[0m┃\n",
       "┡━━━━━━━━━━━━━━━━━━━━━━━━━━━━━━━━━╇━━━━━━━━━━━━━━━━━━━━━━━━╇━━━━━━━━━━━━━━━┩\n",
       "│ embedding (\u001b[38;5;33mEmbedding\u001b[0m)           │ (\u001b[38;5;45mNone\u001b[0m, \u001b[38;5;34m130\u001b[0m, \u001b[38;5;34m300\u001b[0m)       │       \u001b[38;5;34m900,000\u001b[0m │\n",
       "├─────────────────────────────────┼────────────────────────┼───────────────┤\n",
       "│ spatial_dropout1d               │ (\u001b[38;5;45mNone\u001b[0m, \u001b[38;5;34m130\u001b[0m, \u001b[38;5;34m300\u001b[0m)       │             \u001b[38;5;34m0\u001b[0m │\n",
       "│ (\u001b[38;5;33mSpatialDropout1D\u001b[0m)              │                        │               │\n",
       "├─────────────────────────────────┼────────────────────────┼───────────────┤\n",
       "│ lstm (\u001b[38;5;33mLSTM\u001b[0m)                     │ (\u001b[38;5;45mNone\u001b[0m, \u001b[38;5;34m130\u001b[0m, \u001b[38;5;34m128\u001b[0m)       │       \u001b[38;5;34m219,648\u001b[0m │\n",
       "├─────────────────────────────────┼────────────────────────┼───────────────┤\n",
       "│ batch_normalization             │ (\u001b[38;5;45mNone\u001b[0m, \u001b[38;5;34m130\u001b[0m, \u001b[38;5;34m128\u001b[0m)       │           \u001b[38;5;34m512\u001b[0m │\n",
       "│ (\u001b[38;5;33mBatchNormalization\u001b[0m)            │                        │               │\n",
       "├─────────────────────────────────┼────────────────────────┼───────────────┤\n",
       "│ lstm_1 (\u001b[38;5;33mLSTM\u001b[0m)                   │ (\u001b[38;5;45mNone\u001b[0m, \u001b[38;5;34m128\u001b[0m)            │       \u001b[38;5;34m131,584\u001b[0m │\n",
       "├─────────────────────────────────┼────────────────────────┼───────────────┤\n",
       "│ dense (\u001b[38;5;33mDense\u001b[0m)                   │ (\u001b[38;5;45mNone\u001b[0m, \u001b[38;5;34m3\u001b[0m)              │           \u001b[38;5;34m387\u001b[0m │\n",
       "└─────────────────────────────────┴────────────────────────┴───────────────┘\n"
      ]
     },
     "metadata": {},
     "output_type": "display_data"
    },
    {
     "data": {
      "text/html": [
       "<pre style=\"white-space:pre;overflow-x:auto;line-height:normal;font-family:Menlo,'DejaVu Sans Mono',consolas,'Courier New',monospace\"><span style=\"font-weight: bold\"> Total params: </span><span style=\"color: #00af00; text-decoration-color: #00af00\">3,755,883</span> (14.33 MB)\n",
       "</pre>\n"
      ],
      "text/plain": [
       "\u001b[1m Total params: \u001b[0m\u001b[38;5;34m3,755,883\u001b[0m (14.33 MB)\n"
      ]
     },
     "metadata": {},
     "output_type": "display_data"
    },
    {
     "data": {
      "text/html": [
       "<pre style=\"white-space:pre;overflow-x:auto;line-height:normal;font-family:Menlo,'DejaVu Sans Mono',consolas,'Courier New',monospace\"><span style=\"font-weight: bold\"> Trainable params: </span><span style=\"color: #00af00; text-decoration-color: #00af00\">1,251,875</span> (4.78 MB)\n",
       "</pre>\n"
      ],
      "text/plain": [
       "\u001b[1m Trainable params: \u001b[0m\u001b[38;5;34m1,251,875\u001b[0m (4.78 MB)\n"
      ]
     },
     "metadata": {},
     "output_type": "display_data"
    },
    {
     "data": {
      "text/html": [
       "<pre style=\"white-space:pre;overflow-x:auto;line-height:normal;font-family:Menlo,'DejaVu Sans Mono',consolas,'Courier New',monospace\"><span style=\"font-weight: bold\"> Non-trainable params: </span><span style=\"color: #00af00; text-decoration-color: #00af00\">256</span> (1.00 KB)\n",
       "</pre>\n"
      ],
      "text/plain": [
       "\u001b[1m Non-trainable params: \u001b[0m\u001b[38;5;34m256\u001b[0m (1.00 KB)\n"
      ]
     },
     "metadata": {},
     "output_type": "display_data"
    },
    {
     "data": {
      "text/html": [
       "<pre style=\"white-space:pre;overflow-x:auto;line-height:normal;font-family:Menlo,'DejaVu Sans Mono',consolas,'Courier New',monospace\"><span style=\"font-weight: bold\"> Optimizer params: </span><span style=\"color: #00af00; text-decoration-color: #00af00\">2,503,752</span> (9.55 MB)\n",
       "</pre>\n"
      ],
      "text/plain": [
       "\u001b[1m Optimizer params: \u001b[0m\u001b[38;5;34m2,503,752\u001b[0m (9.55 MB)\n"
      ]
     },
     "metadata": {},
     "output_type": "display_data"
    }
   ],
   "source": [
    "# Define the path to save the model\n",
    "model_save_path = 'model/tweet_sentiment.keras'\n",
    "\n",
    "# Step 3: Train the Model\n",
    "# Include ModelCheckpoint to save the best model during training\n",
    "checkpoint = ModelCheckpoint(model_save_path, monitor='val_loss', verbose=1, save_best_only=True, mode='min')\n",
    "\n",
    "early_stopping = EarlyStopping(\n",
    "    monitor='val_loss',  # Monitor the validation loss\n",
    "    patience=3,          # Number of epochs with no improvement after which training will be stopped\n",
    "    restore_best_weights=True  # Restore model weights from the epoch with the best validation loss\n",
    ")\n",
    "\n",
    "reduce_lr = ReduceLROnPlateau(\n",
    "    monitor='val_loss',    # Monitors validation loss\n",
    "    factor=0.1,            # Reduces the learning rate by a factor of 10\n",
    "    patience=3,            # Number of epochs with no improvement after which learning rate will be reduced\n",
    "    min_lr=1e-6            # Sets a minimum learning rate limit\n",
    ")\n",
    "\n",
    "# Batch size went from 32 to 16\n",
    "history = model.fit(X_train_pad, y_train, \n",
    "                    epochs=20, \n",
    "                    batch_size=32, \n",
    "                    validation_data=(X_val_pad, y_val), \n",
    "                    verbose=1,\n",
    "                    callbacks=[checkpoint, early_stopping, reduce_lr])\n",
    "\n",
    "# Model summary (optional)\n",
    "model.summary()"
   ]
  },
  {
   "cell_type": "markdown",
   "id": "a72e54c2-adbe-4e57-897f-480cfea1c66b",
   "metadata": {},
   "source": [
    "## Model performance "
   ]
  },
  {
   "cell_type": "code",
   "execution_count": 39,
   "id": "ca709c76-b0dd-49b8-8d3f-34a2d032d901",
   "metadata": {},
   "outputs": [
    {
     "data": {
      "image/png": "[encoded data removed]",
      "text/plain": [
       "<Figure size 640x480 with 1 Axes>"
      ]
     },
     "metadata": {},
     "output_type": "display_data"
    },
    {
     "data": {
      "image/png": "[encoded data removed]",
      "text/plain": [
       "<Figure size 640x480 with 1 Axes>"
      ]
     },
     "metadata": {},
     "output_type": "display_data"
    }
   ],
   "source": [
    "# Plot training & validation loss values\n",
    "plt.plot(history.history['loss'], label='Training Loss')\n",
    "plt.plot(history.history['val_loss'], label='Validation Loss')\n",
    "plt.title('Model Loss')\n",
    "plt.ylabel('Loss')\n",
    "plt.xlabel('Epoch')\n",
    "plt.legend()\n",
    "plt.show()\n",
    "\n",
    "# Plot training & validation accuracy values\n",
    "plt.plot(history.history['accuracy'])\n",
    "plt.plot(history.history['val_accuracy'])\n",
    "plt.title('Model Accuracy')\n",
    "plt.ylabel('Accuracy')\n",
    "plt.xlabel('Epoch')\n",
    "plt.legend(['Train', 'Validation'], loc='upper right')\n",
    "plt.show()\n",
    "\n"
   ]
  },
  {
   "cell_type": "markdown",
   "id": "ac40007e",
   "metadata": {},
   "source": [
    "## Model Performance Summary\n",
    "\n",
    "### Model Loss Plot\n",
    "- **Training Loss**: The training loss decreases consistently across the epochs, indicating that the model is learning and improving its fit to the training data. This is a positive sign as it shows that the model is reducing its error on the training set.\n",
    "- **Validation Loss**: The validation loss decreases initially and then shows a slight increase after epoch 3. This indicates that the model starts to overfit slightly after the third epoch, as it begins to perform better on the training data than on the validation data.\n",
    "\n",
    "The overall trend in loss suggests that early stopping after around 3-4 epochs could help in avoiding overfitting, which is when the model performs well on the training data but less so on unseen data.\n",
    "\n",
    "### Model Accuracy Plot\n",
    "- **Training Accuracy**: The training accuracy increases steadily over the epochs, indicating that the model is learning to correctly classify the training examples.\n",
    "- **Validation Accuracy**: The validation accuracy also increases and closely follows the training accuracy, which is a good sign. The accuracy levels off near 65%, suggesting that the model has reached a point where additional training is not resulting in significant improvements on the validation data.\n",
    "\n",
    "### Overall Performance Evaluation\n",
    "- **Good Fit**: The close tracking of validation and training accuracy suggests that the model is generalizing reasonably well to unseen data, as there is no large divergence between them. \n",
    "- **Mild Overfitting**: The slight increase in validation loss after epoch 3 indicates the beginning of overfitting. Using early stopping, as implemented, would be beneficial in this case to prevent the model from training further once validation loss stops decreasing.\n",
    "- **Potential Improvements**: While the model shows decent accuracy, there may be room for further tuning to improve generalization. This could include experimenting with additional regularization, adjusting dropout rates, or modifying the model architecture.\n",
    "\n",
    "In summary, the model performs well with some indications of overfitting after a few epochs, but it shows promising generalization based on the accuracy trends. This suggests that the model has learned to effectively classify tweet sentiment while maintaining a reasonable balance between training and validation performance."
   ]
  },
  {
   "cell_type": "markdown",
   "id": "e47fc0e4-9ab1-4aea-9d2e-15e910f37ba0",
   "metadata": {},
   "source": [
    "## Prediction"
   ]
  },
  {
   "cell_type": "code",
   "execution_count": 40,
   "id": "baff198c-4cce-4ef2-8adc-bfbc12ae1105",
   "metadata": {},
   "outputs": [
    {
     "name": "stdout",
     "output_type": "stream",
     "text": [
      "\u001b[1m26/26\u001b[0m \u001b[32m━━━━━━━━━━━━━━━━━━━━\u001b[0m\u001b[37m\u001b[0m \u001b[1m1s\u001b[0m 24ms/step\n"
     ]
    }
   ],
   "source": [
    "\n",
    "# Load the model\n",
    "model = load_model('model/tweet_sentiment.keras')\n",
    "\n",
    "# Step 1: Tokenize and Pad the Test Data\n",
    "# Assuming tokenizer was fitted on the training data\n",
    "X_test_seq = tokenizer.texts_to_sequences(test_df[\"content\"])\n",
    "X_test_pad = pad_sequences(X_test_seq, padding='post')\n",
    "\n",
    "\n",
    "# Step 2: Make Predictions\n",
    "# Get the probability predictions for each test example\n",
    "predictions = model.predict(X_test_pad)\n",
    "# if predictions.shape[1] > 1:  # If more than one output per sample\n",
    "#     y_pred = (predictions[:, 1] > 0.5).astype(int)  # Choose one column (e.g., for binary classification)\n",
    "\n",
    "# else:\n",
    "#     y_pred = (predictions > 0.5).astype(int).flatten()\n",
    "y_pred = np.argmax(predictions, axis=1)\n",
    "\n",
    "\n",
    "\n",
    "\n",
    "\n"
   ]
  },
  {
   "cell_type": "code",
   "execution_count": 41,
   "id": "b87a738d",
   "metadata": {},
   "outputs": [
    {
     "name": "stdout",
     "output_type": "stream",
     "text": [
      "\u001b[1m26/26\u001b[0m \u001b[32m━━━━━━━━━━━━━━━━━━━━\u001b[0m\u001b[37m\u001b[0m \u001b[1m1s\u001b[0m 18ms/step\n"
     ]
    },
    {
     "data": {
      "image/png": "[encoded data removed]",
      "text/plain": [
       "<Figure size 800x600 with 1 Axes>"
      ]
     },
     "metadata": {},
     "output_type": "display_data"
    },
    {
     "data": {
      "image/png": "[encoded data removed]",
      "text/plain": [
       "<Figure size 1000x600 with 2 Axes>"
      ]
     },
     "metadata": {},
     "output_type": "display_data"
    }
   ],
   "source": [
    "from sklearn.metrics import classification_report, accuracy_score, confusion_matrix\n",
    "import seaborn as sns\n",
    "\n",
    "# Load the model\n",
    "model = load_model('model/tweet_sentiment.keras')\n",
    "\n",
    "# Step 1: Tokenize and Pad the Test Data\n",
    "# Assuming tokenizer was fitted on the training data\n",
    "X_test_seq = tokenizer.texts_to_sequences(test_df[\"content\"])\n",
    "X_test_pad = pad_sequences(X_test_seq, padding='post')\n",
    "\n",
    "# Step 2: Make Predictions\n",
    "# Get the probability predictions for each test example\n",
    "predictions = model.predict(X_test_pad)\n",
    "\n",
    "# Step 3: Get Predicted Classes\n",
    "# If the model output is one-hot encoded, use argmax to get class labels\n",
    "y_pred = np.argmax(predictions, axis=1)\n",
    "\n",
    "# Step 4: Compare Predictions with Ground Truth\n",
    "# Assuming 'label' column in test_df contains the ground truth labels\n",
    "y_true = test_df['sentiment_encoded'].values\n",
    "\n",
    "# Step 4: Confusion Matrix Visualization\n",
    "conf_matrix = confusion_matrix(y_true, y_pred)\n",
    "plt.figure(figsize=(8, 6))\n",
    "sns.heatmap(conf_matrix, annot=True, fmt='d', cmap='Blues', cbar=False,\n",
    "            xticklabels=np.unique(y_true), yticklabels=np.unique(y_true))\n",
    "plt.title('Confusion Matrix')\n",
    "plt.xlabel('Predicted Labels')\n",
    "plt.ylabel('True Labels')\n",
    "plt.show()\n",
    "\n",
    "# Step 5: Classification Report Visualization\n",
    "report = classification_report(y_true, y_pred, output_dict=True)\n",
    "report_df = pd.DataFrame(report).transpose()\n",
    "\n",
    "plt.figure(figsize=(10, 6))\n",
    "sns.heatmap(report_df.iloc[:-1, :-1], annot=True, cmap='YlGnBu', fmt=\".2f\")\n",
    "plt.title('Classification Report')\n",
    "plt.show()\n"
   ]
  },
  {
   "cell_type": "code",
   "execution_count": 42,
   "id": "969a22c0",
   "metadata": {},
   "outputs": [
    {
     "data": {
      "text/plain": [
       "array([1, 0, 0, 1, 0, 0, 2, 0, 0, 2])"
      ]
     },
     "execution_count": 42,
     "metadata": {},
     "output_type": "execute_result"
    }
   ],
   "source": [
    "y_pred[:10]  # Display the first 10 predictions for reference\n",
    "\n",
    "\n"
   ]
  },
  {
   "cell_type": "code",
   "execution_count": 43,
   "id": "d008eaad",
   "metadata": {},
   "outputs": [
    {
     "data": {
      "image/png": "[encoded data removed]",
      "text/plain": [
       "<Figure size 640x480 with 1 Axes>"
      ]
     },
     "metadata": {},
     "output_type": "display_data"
    }
   ],
   "source": [
    "# Plot histogram of y_pred\n",
    "plt.hist(y_pred, bins=3, edgecolor='black')\n",
    "plt.xticks([0, 1, 2])\n",
    "plt.xlabel('Prediction (0 = Non-Disaster, 1 = Disaster, 2 = Positive)')\n",
    "plt.ylabel('Frequency')\n",
    "plt.title('Distribution of Predictions (y_pred)')\n",
    "plt.show()"
   ]
  },
  {
   "cell_type": "markdown",
   "id": "c6ba7139-7b6a-4da9-a7f9-df531d251965",
   "metadata": {},
   "source": [
    "### Results and Analysis\n",
    "\n",
    "Our sentiment classification model was evaluated using various metrics and visualizations, providing a comprehensive view of its performance.\n",
    "\n",
    "#### 1. **Confusion Matrix**\n",
    "   - The confusion matrix helps visualize the classification results for each sentiment class:\n",
    "     - **Class 0 (Non-Disaster)**: The model correctly classified 209 samples as Non-Disaster. There were 39 misclassifications as Class 1 (Disaster) and 18 as Class 2 (Positive).\n",
    "     - **Class 1 (Disaster)**: Out of all Disaster-labeled samples, 194 were correctly classified. However, there were 56 misclassifications as Non-Disaster and 35 as Positive.\n",
    "     - **Class 2 (Positive)**: The model correctly identified 146 Positive samples, with 52 misclassifications as Non-Disaster and 79 as Disaster.\n",
    "\n",
    "   This matrix reveals that the model performs reasonably well but struggles slightly with distinguishing between the Positive and Disaster classes, possibly due to overlapping sentiment indicators in the language used.\n",
    "\n",
    "#### 2. **Classification Report**\n",
    "   - The classification report provides detailed metrics for each class:\n",
    "     - **Precision**: Ranges from 0.62 (Disaster) to 0.73 (Positive), indicating that the model is better at identifying Positive sentiment tweets than the others.\n",
    "     - **Recall**: Class 0 (Non-Disaster) has the highest recall at 0.79, which means it correctly identifies most Non-Disaster tweets, while Class 2 (Positive) has the lowest at 0.53, indicating a lower ability to correctly identify all Positive sentiment tweets.\n",
    "     - **F1-Score**: This metric balances precision and recall, with values ranging from 0.61 (Positive) to 0.72 (Non-Disaster). The macro-average F1-score across all classes is 0.66, suggesting moderate overall performance.\n",
    "\n",
    "   These results indicate that the model handles Non-Disaster classifications best, with challenges in correctly distinguishing Positive tweets from the other classes.\n",
    "\n",
    "#### 3. **Distribution of Predictions**\n",
    "   - The distribution plot of predictions across the three classes shows:\n",
    "     - An even distribution between Non-Disaster and Disaster classifications.\n",
    "     - A noticeably lower count for Positive classifications, which aligns with the lower recall and F1-score for this class.\n",
    "   \n",
    "   This distribution suggests that the model may be biased towards Non-Disaster and Disaster sentiments, possibly due to an imbalance in the training data or inherent difficulty in identifying Positive sentiment in tweets.\n",
    "\n",
    "#### 4. **Evaluation of Hyperparameter Tuning**\n",
    "   - **Procedure**: We extensively experimented with hyperparameters, adjusting values such as the vocabulary size, embedding dimension, LSTM units, and dropout rates. These were tuned based on validation performance to achieve a balance between training efficiency and model accuracy.\n",
    "   - **Learning Rate Tuning**: An initial learning rate of 0.01 was selected and dynamically adjusted during training with a `ReduceLROnPlateau` callback, allowing the model to fine-tune weights as it approached convergence.\n",
    "   - **Regularization**: L2 regularization and dropout layers were implemented to mitigate overfitting. Early stopping was used to halt training once validation performance plateaued, and this helped in achieving optimal model complexity.\n",
    "   \n",
    "   The extensive tuning efforts contributed to a well-balanced model, though further improvements could be made to enhance the recall of the Positive sentiment class.\n",
    "\n",
    "#### 5. **Comparison with Alternative Models**\n",
    "   - In addition to our LSTM-based architecture, we also experimented with a CNN model as an alternative. While the CNN model trained faster and was computationally more efficient, it consistently achieved lower recall and F1-scores across all classes, particularly struggling with the sequential nature of tweet data.\n",
    "   - Our LSTM model, in contrast, showed better generalization and higher accuracy in capturing sequential dependencies within tweets, making it more suitable for sentiment analysis tasks that depend on contextual understanding.\n",
    "\n"
   ]
  },
  {
   "cell_type": "markdown",
   "id": "ad5eaa6a-7bc2-48b2-8232-ad7b4ce730ef",
   "metadata": {},
   "source": [
    "## Discussion and Conclusion\n",
    "\n",
    "This project provided valuable insights into the complexities of tweet sentiment classification and demonstrated the strengths and limitations of using an LSTM-based model for this task. \n",
    "\n",
    "1. **Learning and Takeaways**:\n",
    "   - The model effectively captured sequential patterns in tweets, leveraging the LSTM layers to understand context and dependencies that influence sentiment. Our extensive hyperparameter tuning, particularly around embedding dimensions and dropout rates, was crucial in balancing model performance and avoiding overfitting.\n",
    "   - The results highlighted the challenge of distinguishing between similar sentiments, particularly between Disaster and Positive classes, which often share overlapping language and expressions in tweets.\n",
    "\n",
    "2. **Challenges and Limitations**:\n",
    "   - One key limitation observed was the model’s lower recall for the Positive sentiment class, suggesting that it struggled with nuances specific to this category. This could be due to the inherent ambiguity in sentiment expressions or an imbalance in the dataset. Additionally, the LSTM model required significant computational resources and time to train, which could be a constraint in a production environment.\n",
    "\n",
    "3. **Suggestions for Improvement**:\n",
    "   - To enhance the model, future iterations could explore bidirectional LSTMs, which allow the model to capture context from both past and future tokens, potentially improving sentiment detection accuracy. Attention mechanisms could also be integrated to help the model focus on relevant parts of a tweet, especially for longer or more complex tweets.\n",
    "   - Additionally, conducting a more systematic hyperparameter optimization using techniques like Grid Search or Bayesian Optimization could provide a more thorough exploration of the parameter space. Finally, data augmentation techniques or ensembling with other models, such as CNNs or Transformer-based models, could offer complementary strengths and further boost classification performance.\n",
    "\n",
    "In conclusion, while the LSTM model provided a solid foundation for tweet sentiment analysis, there are clear paths for enhancement. By incorporating more advanced architectures and optimization strategies, future models could achieve greater accuracy and robustness in handling the diverse and nuanced nature of social media sentiment."
   ]
  },
  {
   "cell_type": "code",
   "execution_count": null,
   "id": "54aadfd6",
   "metadata": {},
   "outputs": [],
   "source": []
  },
  {
   "cell_type": "code",
   "execution_count": null,
   "id": "fd0b9505",
   "metadata": {},
   "outputs": [],
   "source": []
  },
  {
   "cell_type": "code",
   "execution_count": null,
   "id": "1ab35b42",
   "metadata": {},
   "outputs": [],
   "source": []
  }
 ],
 "metadata": {
  "kernelspec": {
   "display_name": "week6",
   "language": "python",
   "name": "python3"
  },
  "language_info": {
   "codemirror_mode": {
    "name": "ipython",
    "version": 3
   },
   "file_extension": ".py",
   "mimetype": "text/x-python",
   "name": "python",
   "nbconvert_exporter": "python",
   "pygments_lexer": "ipython3",
   "version": "3.9.16"
  }
 },
 "nbformat": 4,
 "nbformat_minor": 5
}
